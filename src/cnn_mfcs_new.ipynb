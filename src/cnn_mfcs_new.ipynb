{
 "cells": [
  {
   "cell_type": "code",
   "execution_count": 16,
   "metadata": {},
   "outputs": [],
   "source": [
    "# this code implements a deep neural network for feature learning\n",
    "# this code comes from Vishwa's class on constructing a data loader and creating a model\n",
    "\n",
    "# Some common system imports\n",
    "import os\n",
    "import sys\n",
    "import importlib\n",
    "import time\n",
    "import csv\n",
    "\n",
    "# Numeric computing\n",
    "import numpy as np\n",
    "\n",
    "# Sklearn functions are useful for generating train/test splits, and metrics\n",
    "from sklearn.model_selection import train_test_split\n",
    "from sklearn.metrics import classification_report\n",
    "from sklearn.ensemble import RandomForestClassifier\n",
    "\n",
    "from scipy.io import wavfile\n",
    "\n",
    "# pytorch\n",
    "import torch\n",
    "import torch.utils.data as tdata\n",
    "from torchaudio import transforms\n",
    "from torchmetrics import Accuracy\n",
    "\n",
    "# Plotting (if we want it)\n",
    "import matplotlib.pyplot as plt\n",
    "\n",
    "# importing our own modules\n",
    "import audio_datasets as ads\n",
    "\n",
    "# for one-hot vectore\n",
    "import torch.nn.functional as func\n",
    "\n",
    "from sklearn.datasets import load_digits\n",
    "from sklearn.decomposition import KernelPCA"
   ]
  },
  {
   "cell_type": "code",
   "execution_count": 17,
   "metadata": {},
   "outputs": [
    {
     "name": "stderr",
     "output_type": "stream",
     "text": [
      "/tmp/ipykernel_1802/2607136881.py:18: WavFileWarning: Chunk (non-data) not understood, skipping it.\n",
      "  data_array.append(wavfile.read(os.path.join(training_path, data[0]))[1])\n"
     ]
    },
    {
     "name": "stdout",
     "output_type": "stream",
     "text": [
      "240000\n"
     ]
    }
   ],
   "source": [
    "# loading the raw data for feature learning\n",
    "training_path = os.path.join(os.getcwd(), \"..\", \"training_data\") #need to change this back before pushing ***\n",
    "files = os.listdir(training_path)\n",
    "wav_files = []\n",
    "file_type = \"wav\"\n",
    "LABELS = {\"neutral\": 0, \"calm\": 1, \"happy\": 2, \"sad\": 3, \"angry\": 4, \"fearful\": 5, \"disgust\": 6, \"surprised\": 7}\n",
    "\n",
    "for file in files:\n",
    "    curr_path = os.path.join(training_path, file)\n",
    "    if os.path.isfile(curr_path) and file_type in file:\n",
    "        for label in LABELS.keys():\n",
    "            if label in file:\n",
    "                wav_files.append((file, LABELS[label]))\n",
    "\n",
    "data_array = []\n",
    "label_array = []\n",
    "for data in wav_files: #in the my_datasets code\n",
    "    data_array.append(wavfile.read(os.path.join(training_path, data[0]))[1])\n",
    "    label_array.append(data[1])\n",
    "\n",
    "max_len = max([len(data) for data in data_array])\n",
    "data_array = [np.resize(data, 48000*5) for data in data_array]\n",
    "print(len(data_array[0]))"
   ]
  },
  {
   "cell_type": "code",
   "execution_count": 18,
   "metadata": {},
   "outputs": [],
   "source": [
    "#setting up the CNN\n",
    "class CNN(torch.nn.Module):\n",
    "    def __init__(self):\n",
    "        super().__init__()\n",
    "        \n",
    "        #convolutional layers\n",
    "        KERNEL = 3\n",
    "        self.conv1 = torch.nn.Conv2d(1, 1, KERNEL)\n",
    "        #self.conv2 = torch.nn.Conv2d(1, 1, KERNEL)\n",
    "        #self.conv3 = torch.nn.Conv2d(1, 1, KERNEL)\n",
    "\n",
    "        #max pooling layer\n",
    "        self.pooling_layer = torch.nn.MaxPool2d(3)\n",
    "        \n",
    "        #fully connected layers\n",
    "        self.fc1 = torch.nn.Linear(in_features=2394, out_features=500)\n",
    "        self.fc2 = torch.nn.Linear(in_features=500, out_features=50)\n",
    "        self.fc3 = torch.nn.Linear(in_features=50, out_features=8)\n",
    "\n",
    "    def forward(self, x):\n",
    "        \n",
    "        conv_x1 = torch.relu(self.conv1(x))\n",
    "        #conv_x2 = torch.relu(self.conv2(conv_x1))\n",
    "        #conv_x3 = torch.relu(self.conv1(conv_x2))\n",
    "\n",
    "        pooled_x = self.pooling_layer(conv_x1)\n",
    "\n",
    "        fc_layer_in = pooled_x.reshape((pooled_x.shape[0], -1))\n",
    "        \n",
    "        fc_x1 = torch.relu(self.fc1(fc_layer_in))\n",
    "        fc_x2 = torch.relu(self.fc2(fc_x1))\n",
    "        fc_x3 = self.fc3(fc_x2)\n",
    "        \n",
    "        return torch.sigmoid(fc_x3)\n",
    "    "
   ]
  },
  {
   "cell_type": "code",
   "execution_count": 19,
   "metadata": {},
   "outputs": [],
   "source": [
    "# split into training and testing\n",
    "#transformer = KernelPCA(n_components=40, kernel='cosine')\n",
    "N_MELS = 20\n",
    "mfcc = transforms.MFCC(sample_rate=48000, n_mfcc=N_MELS, melkwargs={\"n_fft\": 400})\n",
    "mfcc_data = []\n",
    "for data in data_array:\n",
    "    mfcc_image = mfcc(torch.tensor(data).float())\n",
    "    mfcc_data.append(np.array(mfcc_image))\n",
    "#mfcc_data_array = [np.array(mfcs(torch.tensor(data).float())) for data in data_array] #transform into mfcc before model\n",
    "train_data, test_data, train_labels, test_labels = train_test_split(mfcc_data, label_array, train_size=0.75, test_size=0.25)\n",
    "#train_data = mfcc_data_array\n",
    "#train_labels = label_array\n",
    "#print(data.shape, train_data.shape, test_data.shape)\n",
    "for i in range(len(train_data)):\n",
    "    # print(train_data[i].shape)\n",
    "    train_data[i] = train_data[i].reshape(1, N_MELS, 1201)\n",
    "for i in range(len(test_data)):\n",
    "    test_data[i] = test_data[i].reshape(1, N_MELS, 1201)\n",
    "train_ten, test_ten = torch.tensor(train_data), torch.tensor(test_data)\n",
    "train_y_ten, test_y_ten = torch.tensor(train_labels), torch.tensor(test_labels)\n",
    "# print(train_ten.shape)\n",
    "train_dataset = tdata.TensorDataset(train_ten, train_y_ten)\n",
    "\n",
    "train_loader = tdata.DataLoader(train_dataset, batch_size=50) #this is the data loader (just doing 1 point at a time)"
   ]
  },
  {
   "cell_type": "code",
   "execution_count": 20,
   "metadata": {},
   "outputs": [
    {
     "name": "stdout",
     "output_type": "stream",
     "text": [
      "torch.Size([843, 1, 20, 1201])\n",
      "torch.Size([282, 1, 20, 1201])\n",
      "torch.Size([843])\n",
      "torch.Size([282])\n"
     ]
    }
   ],
   "source": [
    "print(train_ten.shape)\n",
    "print(test_ten.shape)\n",
    "print(train_y_ten.shape)\n",
    "print(test_y_ten.shape)"
   ]
  },
  {
   "cell_type": "code",
   "execution_count": 26,
   "metadata": {},
   "outputs": [],
   "source": [
    "def test_new_model():\n",
    "  n_epochs = 100 #essentially number of iterations\n",
    "\n",
    "  #instantiating a model\n",
    "  model = CNN()\n",
    "\n",
    "  #loss function\n",
    "  criterion = torch.nn.CrossEntropyLoss() #binary cross-entropy loss, clamps log values to protect against extremes\n",
    "\n",
    "  #optimizer mechanism\n",
    "  optimizer = torch.optim.Adam(lr=1e-4, params=model.parameters())\n",
    "\n",
    "  loss_array = np.zeros(n_epochs)\n",
    "\n",
    "  for epoch_idx in range(n_epochs):\n",
    "    for batch in train_loader:\n",
    "      data_batch, labels_batch = batch\n",
    "\n",
    "      #predict\n",
    "      labels_pred = model(data_batch.to(torch.float32))\n",
    "    \n",
    "      #compute loss\n",
    "      loss = criterion(labels_pred, labels_batch) #note: cross entropy is not symmetric\n",
    "\n",
    "      loss_array[epoch_idx] += loss.item()/data_batch.shape[0] #mean of loss\n",
    "  \n",
    "      #backprop\n",
    "      optimizer.zero_grad()\n",
    "      loss.backward() #backprop from pytorch\n",
    "      optimizer.step() #all params optimized\n",
    "    #if epoch_idx%50 == 0:\n",
    "    #  fig.data[0].y = loss_array[:epoch_idx]\n",
    "    #  fig.update_yaxes(type='log')\n",
    "\n",
    "  test_pred = []\n",
    "  test_dataset = tdata.TensorDataset(test_ten, test_y_ten)\n",
    "  test_loader = tdata.DataLoader(test_dataset, batch_size=50) \n",
    "  with torch.no_grad():\n",
    "    for test in test_loader:\n",
    "      label_histogram = model(test[0].to(torch.float32))\n",
    "      for histogram in label_histogram:\n",
    "        test_pred.append(np.argmax(histogram).item())\n",
    "\n",
    "\n",
    "  test_pred = torch.tensor(test_pred)\n",
    "  accuracy = Accuracy(task=\"multiclass\", num_classes=8)\n",
    "  computed_accuracy = accuracy(test_pred, test_y_ten)\n",
    "  print(\"Accuracy =\", computed_accuracy)\n",
    "  return (model, computed_accuracy)"
   ]
  },
  {
   "cell_type": "code",
   "execution_count": 27,
   "metadata": {},
   "outputs": [
    {
     "name": "stdout",
     "output_type": "stream",
     "text": [
      "Accuracy = tensor(0.3936)\n",
      "Accuracy improved to tensor(0.3936)\n",
      "Model 0 trained.\n",
      "Accuracy = tensor(0.4468)\n",
      "Accuracy improved to tensor(0.4468)\n",
      "Model 1 trained.\n",
      "Accuracy = tensor(0.3511)\n",
      "Model 2 trained.\n",
      "Accuracy = tensor(0.1099)\n",
      "Model 3 trained.\n",
      "Accuracy = tensor(0.3830)\n",
      "Model 4 trained.\n",
      "Accuracy = tensor(0.3759)\n",
      "Model 5 trained.\n",
      "Accuracy = tensor(0.3830)\n",
      "Model 6 trained.\n",
      "Accuracy = tensor(0.3511)\n",
      "Model 7 trained.\n",
      "Accuracy = tensor(0.3369)\n",
      "Model 8 trained.\n",
      "Accuracy = tensor(0.0567)\n",
      "Model 9 trained.\n",
      "tensor(0.4468)\n"
     ]
    }
   ],
   "source": [
    "best_model = None\n",
    "best_accuracy = 0.0\n",
    "num_tests = 10\n",
    "\n",
    "for i in range(num_tests):\n",
    "    result = test_new_model()\n",
    "    if result[1] > best_accuracy:\n",
    "        best_accuracy = result[1]\n",
    "        best_model = result[0]\n",
    "        print(\"Accuracy improved to\", best_accuracy)\n",
    "    print(\"Model\", i, \"trained.\")\n",
    "\n",
    "print(best_accuracy)"
   ]
  },
  {
   "cell_type": "code",
   "execution_count": 22,
   "metadata": {},
   "outputs": [
    {
     "name": "stdout",
     "output_type": "stream",
     "text": [
      "              precision    recall  f1-score   support\n",
      "\n",
      "           0       0.18      0.25      0.21        20\n",
      "           1       0.55      0.15      0.23        41\n",
      "           2       0.20      0.54      0.29        35\n",
      "           3       0.18      0.33      0.24        39\n",
      "           4       0.89      0.24      0.37        34\n",
      "           5       0.30      0.08      0.13        36\n",
      "           6       0.58      0.38      0.45        40\n",
      "           7       0.44      0.38      0.41        37\n",
      "\n",
      "    accuracy                           0.29       282\n",
      "   macro avg       0.41      0.29      0.29       282\n",
      "weighted avg       0.43      0.29      0.30       282\n",
      "\n"
     ]
    }
   ],
   "source": [
    "# test_pred = []\n",
    "# test_dataset = tdata.TensorDataset(test_ten, test_y_ten)\n",
    "# test_loader = tdata.DataLoader(test_dataset, batch_size=50) \n",
    "# with torch.no_grad():\n",
    "#   for test in test_loader:\n",
    "#     # convolutional layer\n",
    "    \n",
    "#     label_histogram = model(test[0].to(torch.float32))\n",
    "#     for histogram in label_histogram:\n",
    "#       test_pred.append(np.argmax(histogram).item())\n",
    "\n",
    "\n",
    "# test_pred = torch.tensor(test_pred)\n",
    "# print(classification_report(test_y_ten, test_pred))"
   ]
  }
 ],
 "metadata": {
  "kernelspec": {
   "display_name": "Python 3",
   "language": "python",
   "name": "python3"
  },
  "language_info": {
   "codemirror_mode": {
    "name": "ipython",
    "version": 3
   },
   "file_extension": ".py",
   "mimetype": "text/x-python",
   "name": "python",
   "nbconvert_exporter": "python",
   "pygments_lexer": "ipython3",
   "version": "3.8.10"
  },
  "orig_nbformat": 4,
  "vscode": {
   "interpreter": {
    "hash": "916dbcbb3f70747c44a77c7bcd40155683ae19c65e1c03b4aa3499c5328201f1"
   }
  }
 },
 "nbformat": 4,
 "nbformat_minor": 2
}
