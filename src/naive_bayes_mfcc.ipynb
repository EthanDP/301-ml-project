{
 "cells": [
  {
   "cell_type": "code",
   "execution_count": 4,
   "metadata": {},
   "outputs": [],
   "source": [
    "# this code implements a deep neural network for feature learning\n",
    "# this code comes from Vishwa's class on constructing a data loader and creating a model\n",
    "\n",
    "# Some common system imports\n",
    "import os\n",
    "import sys\n",
    "import importlib\n",
    "import time\n",
    "import csv\n",
    "\n",
    "# Numeric computing\n",
    "import numpy as np\n",
    "\n",
    "# Sklearn functions are useful for generating train/test splits, and metrics\n",
    "from sklearn.model_selection import train_test_split\n",
    "from sklearn.metrics import classification_report\n",
    "from sklearn.naive_bayes import GaussianNB\n",
    "\n",
    "from scipy.io import wavfile\n",
    "\n",
    "# pytorch\n",
    "import torch\n",
    "import torch.utils.data as tdata\n",
    "from torchaudio import transforms\n",
    "\n",
    "# Plotting (if we want it)\n",
    "import matplotlib.pyplot as plt\n",
    "\n",
    "# importing our own modules\n",
    "import audio_datasets as ads"
   ]
  },
  {
   "cell_type": "code",
   "execution_count": 2,
   "metadata": {},
   "outputs": [
    {
     "name": "stderr",
     "output_type": "stream",
     "text": [
      "/var/folders/q8/zv6syryd4jb5q3z96sz1_lm80000gn/T/ipykernel_20688/447498517.py:18: WavFileWarning: Chunk (non-data) not understood, skipping it.\n",
      "  data_array.append(wavfile.read(os.path.join(training_path, data[0]))[1])\n"
     ]
    }
   ],
   "source": [
    "# loading the raw data for feature learning\n",
    "training_path = os.path.join(os.getcwd(), \"..\", \"training_data/data\")\n",
    "files = os.listdir(training_path)\n",
    "wav_files = []\n",
    "file_type = \"wav\"\n",
    "LABELS = {\"neutral\": 0, \"calm\": 1, \"happy\": 2, \"sad\": 3, \"angry\": 4, \"fearful\": 5, \"disgust\": 6, \"surprised\": 7}\n",
    "\n",
    "for file in files:\n",
    "    curr_path = os.path.join(training_path, file)\n",
    "    if os.path.isfile(curr_path) and file_type in file:\n",
    "        for label in LABELS.keys():\n",
    "            if label in file:\n",
    "                wav_files.append((file, LABELS[label]))\n",
    "\n",
    "data_array = []\n",
    "label_array = []\n",
    "for data in wav_files: #in the my_datasets code\n",
    "    data_array.append(wavfile.read(os.path.join(training_path, data[0]))[1])\n",
    "    label_array.append(data[1])\n",
    "\n",
    "max_len = max([len(data) for data in data_array])\n",
    "data_array = [np.resize(data, 48000*5) for data in data_array]"
   ]
  },
  {
   "cell_type": "code",
   "execution_count": 7,
   "metadata": {},
   "outputs": [
    {
     "name": "stderr",
     "output_type": "stream",
     "text": [
      "/tmp/ipykernel_5785/2716096835.py:13: WavFileWarning: Chunk (non-data) not understood, skipping it.\n",
      "  test_data_array.append(wavfile.read(os.path.join(test_path, data))[1])\n"
     ]
    }
   ],
   "source": [
    "# loading the raw data for feature learning\n",
    "test_path = os.path.join(os.getcwd(), \"..\", \"test_data\")\n",
    "test_files = os.listdir(test_path)\n",
    "test_wav_files = []\n",
    "\n",
    "for file in test_files:\n",
    "    curr_path = os.path.join(test_path, file)\n",
    "    if os.path.isfile(curr_path) and file_type in file:\n",
    "        test_wav_files.append(file)\n",
    "\n",
    "test_data_array = []\n",
    "for data in test_wav_files: #in the my_datasets code\n",
    "    test_data_array.append(wavfile.read(os.path.join(test_path, data))[1])\n",
    "\n",
    "test_data_array = [np.resize(data, 48000*5) for data in test_data_array]"
   ]
  },
  {
   "cell_type": "code",
   "execution_count": 11,
   "metadata": {},
   "outputs": [],
   "source": [
    "# split into training and testing\n",
    "train_data, test_data, train_labels, test_labels = train_test_split(data_array, label_array, train_size=0.5, test_size=0.5)\n",
    "#print(data.shape, train_data.shape, test_data.shape)\n",
    "\n",
    "train_ten, test_ten = torch.tensor(train_data), torch.tensor(test_data)\n",
    "train_y_ten, test_y_ten = torch.tensor(train_labels), torch.tensor(test_labels)"
   ]
  },
  {
   "cell_type": "code",
   "execution_count": 12,
   "metadata": {},
   "outputs": [
    {
     "name": "stderr",
     "output_type": "stream",
     "text": [
      "/Users/davisjackson/Desktop/ELEC301_Project/ELEC301_Project_Env/lib/python3.8/site-packages/torchaudio/functional/functional.py:571: UserWarning: At least one mel filterbank has all zero values. The value for `n_mels` (128) may be set too high. Or, the value for `n_freqs` (201) may be set too low.\n",
      "  warnings.warn(\n"
     ]
    },
    {
     "name": "stdout",
     "output_type": "stream",
     "text": [
      "torch.Size([562, 240000])\n",
      "torch.Size([40, 1201])\n",
      "3 torch.Size([562, 240000])\n",
      "4 (562, 48040)\n",
      "5 torch.Size([562])\n"
     ]
    }
   ],
   "source": [
    "#implementing the Mel-frequency cepstrum coefficients as feature vectors\n",
    "mfcc = transforms.MFCC(sample_rate=48000, n_mfcc=40)\n",
    "print(train_ten.shape)\n",
    "#mel_spectrogram = transforms.MelSpectrogram(sample_rate=48000, n_fft=400, n_mels=1)\n",
    "#print(\"2\", mel_spectrogram(train_ten[0].float()).shape)\n",
    "#print(\"2.5\", mfcc(mel_spectrogram(train_ten[0].float())).shape)\n",
    "print(mfcc(train_ten[0].float()).shape)\n",
    "mfcc_features = np.zeros((562, 48040))\n",
    "for row in range(562):\n",
    "    mel_coef = np.array(mfcc(train_ten[row].float()))\n",
    "    mel_coef = mel_coef.reshape((1, 48040))\n",
    "    mfcc_features[row] = mel_coef\n",
    "\n",
    "print(\"3\", train_ten.size())\n",
    "print(\"4\", mfcc_features.shape)\n",
    "print(\"5\", train_y_ten.shape)"
   ]
  },
  {
   "cell_type": "code",
   "execution_count": 13,
   "metadata": {},
   "outputs": [],
   "source": [
    "#implementing the Mel-frequency cepstrum coefficients as feature vectors\n",
    "mfcc2 = transforms.MFCC(sample_rate=48000, n_mfcc=40)\n",
    "#mel_spectrogram = transforms.MelSpectrogram(sample_rate=48000, n_fft=400, n_mels=1)\n",
    "#print(\"2\", mel_spectrogram(train_ten[0].float()).shape)\n",
    "#print(\"2.5\", mfcc(mel_spectrogram(train_ten[0].float())).shape)\n",
    "mfcc_test_features = np.zeros((562, 48040))\n",
    "for row in range(562):\n",
    "    mel_coef = np.array(mfcc2(test_ten[row].float()))\n",
    "    mel_coef = mel_coef.reshape((1, 48040))\n",
    "    mfcc_test_features[row] = mel_coef"
   ]
  },
  {
   "cell_type": "code",
   "execution_count": 14,
   "metadata": {},
   "outputs": [
    {
     "name": "stdout",
     "output_type": "stream",
     "text": [
      "(562, 48040) torch.Size([562])\n",
      "Number of correct labels:  181\n"
     ]
    }
   ],
   "source": [
    "gnb2 = GaussianNB() #gnb and y_pred lines directly from scikit-learn website documentation for Naive-Bayes\n",
    "print(mfcc_features.shape, train_y_ten.shape)\n",
    "y_pred2 = gnb2.fit(mfcc_features, train_labels).predict(mfcc_test_features)\n",
    "y_pred2 = list(y_pred2)\n",
    "\n",
    "'''\n",
    "LABEL_CONVERTER = dict([(value, key) for key, value in LABELS.items()])\n",
    "\n",
    "#counting the mislabeled points\n",
    "\n",
    "with open(\"bayes_results.csv\", \"w+\") as result_file:\n",
    "   writer = csv.writer(result_file)\n",
    "   writer.writerow([\"filename\", \"label\"])\n",
    "\n",
    "   for idx in range(len(y_pred)):\n",
    "       writer.writerow([os.path.splitext(test_wav_files[idx])[0], LABEL_CONVERTER[y_pred[idx]]])\n",
    "'''\n",
    "#print(classification_report(test_y_ten, test_pred))\n",
    "correct = 0\n",
    "for label in range(len(y_pred2)):\n",
    "    if y_pred2[label] == test_labels[label]:\n",
    "        correct += 1\n",
    "print(\"Number of correct labels: \", correct)\n",
    "#print(\"Number of mislabeled points out of a total %d points : %d\", (len(test_labels), (test_labels != y_pred2).sum()))"
   ]
  },
  {
   "cell_type": "code",
   "execution_count": 7,
   "metadata": {},
   "outputs": [
    {
     "ename": "NameError",
     "evalue": "name 'test_data_array' is not defined",
     "output_type": "error",
     "traceback": [
      "\u001b[0;31m---------------------------------------------------------------------------\u001b[0m",
      "\u001b[0;31mNameError\u001b[0m                                 Traceback (most recent call last)",
      "Cell \u001b[0;32mIn [7], line 2\u001b[0m\n\u001b[1;32m      1\u001b[0m gnb \u001b[38;5;241m=\u001b[39m GaussianNB() \u001b[38;5;66;03m#gnb and y_pred lines directly from scikit-learn website documentation for Naive-Bayes\u001b[39;00m\n\u001b[0;32m----> 2\u001b[0m y_pred \u001b[38;5;241m=\u001b[39m gnb\u001b[38;5;241m.\u001b[39mfit(data_array, label_array)\u001b[38;5;241m.\u001b[39mpredict(\u001b[43mtest_data_array\u001b[49m)\n\u001b[1;32m      4\u001b[0m LABEL_CONVERTER \u001b[38;5;241m=\u001b[39m \u001b[38;5;28mdict\u001b[39m([(value, key) \u001b[38;5;28;01mfor\u001b[39;00m key, value \u001b[38;5;129;01min\u001b[39;00m LABELS\u001b[38;5;241m.\u001b[39mitems()])\n\u001b[1;32m      6\u001b[0m \u001b[38;5;66;03m#counting the mislabeled points\u001b[39;00m\n",
      "\u001b[0;31mNameError\u001b[0m: name 'test_data_array' is not defined"
     ]
    }
   ],
   "source": [
    "gnb = GaussianNB() #gnb and y_pred lines directly from scikit-learn website documentation for Naive-Bayes\n",
    "y_pred = gnb.fit(data_array, label_array).predict(test_data_array)\n",
    "\n",
    "LABEL_CONVERTER = dict([(value, key) for key, value in LABELS.items()])\n",
    "\n",
    "#counting the mislabeled points\n",
    "with open(\"bayes_results.csv\", \"w+\") as result_file:\n",
    "    writer = csv.writer(result_file)\n",
    "    writer.writerow([\"filename\", \"label\"])\n",
    "\n",
    "    for idx in range(len(y_pred)):\n",
    "        writer.writerow([os.path.splitext(test_wav_files[idx])[0], LABEL_CONVERTER[y_pred[idx]]])\n",
    "\n",
    "#print(classification_report(test_y_ten, test_pred))\n",
    "#print(\"Number of mislabeled points out of a total %d points : %d\", (test_ten.shape[0], (test_y_ten != y_pred).sum()))"
   ]
  }
 ],
 "metadata": {
  "kernelspec": {
   "display_name": "Python 3.8.2 ('ELEC301_Project_Env': venv)",
   "language": "python",
   "name": "python3"
  },
  "language_info": {
   "codemirror_mode": {
    "name": "ipython",
    "version": 3
   },
   "file_extension": ".py",
   "mimetype": "text/x-python",
   "name": "python",
   "nbconvert_exporter": "python",
   "pygments_lexer": "ipython3",
   "version": "3.8.2"
  },
  "orig_nbformat": 4,
  "vscode": {
   "interpreter": {
    "hash": "aca442fef5256e74b96d97f836a0c32828151a74af2591d3ef43ba10ce6d2e05"
   }
  }
 },
 "nbformat": 4,
 "nbformat_minor": 2
}
