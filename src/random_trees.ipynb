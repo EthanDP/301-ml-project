{
 "cells": [
  {
   "cell_type": "code",
   "execution_count": 5,
   "metadata": {},
   "outputs": [],
   "source": [
    "# this code implements a deep neural network for feature learning\n",
    "# this code comes from Vishwa's class on constructing a data loader and creating a model\n",
    "\n",
    "# Some common system imports\n",
    "import os\n",
    "import sys\n",
    "import importlib\n",
    "import time\n",
    "import csv\n",
    "\n",
    "# Numeric computing\n",
    "import numpy as np\n",
    "\n",
    "# Sklearn functions are useful for generating train/test splits, and metrics\n",
    "from sklearn.model_selection import train_test_split\n",
    "from sklearn.metrics import classification_report\n",
    "from sklearn.ensemble import RandomForestClassifier\n",
    "\n",
    "from scipy.io import wavfile\n",
    "\n",
    "# pytorch\n",
    "import torch\n",
    "import torch.utils.data as tdata\n",
    "\n",
    "# Plotting (if we want it)\n",
    "import matplotlib.pyplot as plt\n",
    "\n",
    "# importing our own modules\n",
    "import audio_datasets as ads"
   ]
  },
  {
   "cell_type": "code",
   "execution_count": 6,
   "metadata": {},
   "outputs": [
    {
     "name": "stderr",
     "output_type": "stream",
     "text": [
      "/tmp/ipykernel_6330/647700761.py:18: WavFileWarning: Chunk (non-data) not understood, skipping it.\n",
      "  data_array.append(wavfile.read(os.path.join(training_path, data[0]))[1])\n"
     ]
    }
   ],
   "source": [
    "# loading the raw data for feature learning\n",
    "training_path = os.path.join(os.getcwd(), \"..\", \"training_data\")\n",
    "files = os.listdir(training_path)\n",
    "wav_files = []\n",
    "file_type = \"wav\"\n",
    "LABELS = {\"neutral\": 0, \"calm\": 1, \"happy\": 2, \"sad\": 3, \"angry\": 4, \"fearful\": 5, \"disgust\": 6, \"surprised\": 7}\n",
    "\n",
    "for file in files:\n",
    "    curr_path = os.path.join(training_path, file)\n",
    "    if os.path.isfile(curr_path) and file_type in file:\n",
    "        for label in LABELS.keys():\n",
    "            if label in file:\n",
    "                wav_files.append((file, LABELS[label]))\n",
    "\n",
    "data_array = []\n",
    "label_array = []\n",
    "for data in wav_files: #in the my_datasets code\n",
    "    data_array.append(wavfile.read(os.path.join(training_path, data[0]))[1])\n",
    "    label_array.append(data[1])\n",
    "\n",
    "max_len = max([len(data) for data in data_array])\n",
    "data_array = [np.resize(data, 48000*5) for data in data_array]"
   ]
  },
  {
   "cell_type": "code",
   "execution_count": 7,
   "metadata": {},
   "outputs": [
    {
     "name": "stderr",
     "output_type": "stream",
     "text": [
      "/tmp/ipykernel_6330/2716096835.py:13: WavFileWarning: Chunk (non-data) not understood, skipping it.\n",
      "  test_data_array.append(wavfile.read(os.path.join(test_path, data))[1])\n"
     ]
    }
   ],
   "source": [
    "# loading the raw data for feature learning\n",
    "test_path = os.path.join(os.getcwd(), \"..\", \"test_data\")\n",
    "test_files = os.listdir(test_path)\n",
    "test_wav_files = []\n",
    "\n",
    "for file in test_files:\n",
    "    curr_path = os.path.join(test_path, file)\n",
    "    if os.path.isfile(curr_path) and file_type in file:\n",
    "        test_wav_files.append(file)\n",
    "\n",
    "test_data_array = []\n",
    "for data in test_wav_files: #in the my_datasets code\n",
    "    test_data_array.append(wavfile.read(os.path.join(test_path, data))[1])\n",
    "\n",
    "test_data_array = [np.resize(data, 48000*5) for data in test_data_array]"
   ]
  },
  {
   "cell_type": "code",
   "execution_count": 8,
   "metadata": {},
   "outputs": [],
   "source": [
    "forest = RandomForestClassifier(1000) #gnb and y_pred lines directly from scikit-learn website documentation for Naive-Bayes\n",
    "y_pred = forest.fit(data_array, label_array).predict(test_data_array)\n",
    "\n",
    "LABEL_CONVERTER = dict([(value, key) for key, value in LABELS.items()])\n",
    "\n",
    "#counting the mislabeled points\n",
    "with open(\"random_trees_results.csv\", \"w+\") as result_file:\n",
    "   writer = csv.writer(result_file)\n",
    "   writer.writerow([\"filename\", \"label\"])\n",
    "\n",
    "   for idx in range(len(y_pred)):\n",
    "       writer.writerow([os.path.splitext(test_wav_files[idx])[0], LABEL_CONVERTER[y_pred[idx]]])\n",
    "\n",
    "#print(classification_report(test_y_ten, test_pred))\n",
    "#print(\"Number of mislabeled points out of a total %d points : %d\", (test_ten.shape[0], (test_y_ten != y_pred).sum()))"
   ]
  }
 ],
 "metadata": {
  "kernelspec": {
   "display_name": "Python 3",
   "language": "python",
   "name": "python3"
  },
  "language_info": {
   "codemirror_mode": {
    "name": "ipython",
    "version": 3
   },
   "file_extension": ".py",
   "mimetype": "text/x-python",
   "name": "python",
   "nbconvert_exporter": "python",
   "pygments_lexer": "ipython3",
   "version": "3.8.10 (default, Jun 22 2022, 20:18:18) \n[GCC 9.4.0]"
  },
  "orig_nbformat": 4,
  "vscode": {
   "interpreter": {
    "hash": "916dbcbb3f70747c44a77c7bcd40155683ae19c65e1c03b4aa3499c5328201f1"
   }
  }
 },
 "nbformat": 4,
 "nbformat_minor": 2
}
