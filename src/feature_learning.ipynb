{
 "cells": [
  {
   "cell_type": "code",
   "execution_count": 1,
   "metadata": {},
   "outputs": [],
   "source": [
    "# this code implements a deep neural network for feature learning\n",
    "# this code comes from Vishwa's class on constructing a data loader and creating a model\n",
    "\n",
    "# Some common system imports\n",
    "import os\n",
    "import sys\n",
    "import importlib\n",
    "import time\n",
    "\n",
    "# Numeric computing\n",
    "import numpy as np\n",
    "\n",
    "# Sklearn functions are useful for generating train/test splits, and metrics\n",
    "from sklearn.model_selection import train_test_split\n",
    "from sklearn.metrics import classification_report\n",
    "\n",
    "# pytorch\n",
    "import torch\n",
    "import torch.utils.data as tdata\n",
    "\n",
    "# Plotting (if we want it)\n",
    "import matplotlib.pyplot as plt\n",
    "\n",
    "# importing our own modules\n",
    "import audio_datasets as ads"
   ]
  },
  {
   "cell_type": "code",
   "execution_count": null,
   "metadata": {},
   "outputs": [],
   "source": [
    "# The next two cells are to make sure that plotly live plotting works\n",
    "#fig = go.FigureWidget()\n",
    "#fig.add_scatter()\n",
    "#fig.layout.xaxis.title = \"Epoch\"\n",
    "#fig.layout.yaxis.title = \"Loss\"\n",
    "#fig.layout.height = 500\n",
    "#fig.layout.width = 500\n",
    "\n",
    "#fig"
   ]
  },
  {
   "cell_type": "code",
   "execution_count": 4,
   "metadata": {},
   "outputs": [
    {
     "name": "stdout",
     "output_type": "stream",
     "text": [
      "/Users/davisjackson/Desktop/ELEC301_Project/301-ml-project/src\n"
     ]
    }
   ],
   "source": [
    "print(os.getcwd())"
   ]
  },
  {
   "cell_type": "code",
   "execution_count": 3,
   "metadata": {},
   "outputs": [
    {
     "ename": "FileNotFoundError",
     "evalue": "[Errno 2] No such file or directory: '/training_data/data'",
     "output_type": "error",
     "traceback": [
      "\u001b[0;31m---------------------------------------------------------------------------\u001b[0m",
      "\u001b[0;31mFileNotFoundError\u001b[0m                         Traceback (most recent call last)",
      "Cell \u001b[0;32mIn [3], line 5\u001b[0m\n\u001b[1;32m      3\u001b[0m data_array \u001b[38;5;241m=\u001b[39m []\n\u001b[1;32m      4\u001b[0m label_array \u001b[38;5;241m=\u001b[39m []\n\u001b[0;32m----> 5\u001b[0m data \u001b[38;5;241m=\u001b[39m \u001b[43mads\u001b[49m\u001b[38;5;241;43m.\u001b[39;49m\u001b[43mSpeechAudioDataset\u001b[49m\u001b[43m(\u001b[49m\u001b[38;5;124;43m\"\u001b[39;49m\u001b[38;5;124;43m/training_data/data\u001b[39;49m\u001b[38;5;124;43m\"\u001b[39;49m\u001b[43m)\u001b[49m\n\u001b[1;32m      6\u001b[0m \u001b[38;5;28;01mfor\u001b[39;00m idx \u001b[38;5;129;01min\u001b[39;00m \u001b[38;5;28mrange\u001b[39m(NUM_AUDIO_DATA):\n\u001b[1;32m      7\u001b[0m     (data, sample_rate), label \u001b[38;5;241m=\u001b[39m ads\u001b[38;5;241m.\u001b[39mSpeechAudioDataset\u001b[38;5;241m.\u001b[39m\u001b[38;5;21m__getitem__\u001b[39m(idx) \u001b[38;5;66;03m#in the my_datasets code\u001b[39;00m\n",
      "File \u001b[0;32m~/Desktop/ELEC301_Project/301-ml-project/src/audio_datasets.py:35\u001b[0m, in \u001b[0;36mSpeechAudioDataset.__init__\u001b[0;34m(self, wav_dir, transform, target_transform)\u001b[0m\n\u001b[1;32m     34\u001b[0m \u001b[39mdef\u001b[39;00m \u001b[39m__init__\u001b[39m(\u001b[39mself\u001b[39m, wav_dir, transform\u001b[39m=\u001b[39m\u001b[39mNone\u001b[39;00m, target_transform\u001b[39m=\u001b[39m\u001b[39mNone\u001b[39;00m):\n\u001b[0;32m---> 35\u001b[0m     \u001b[39mself\u001b[39m\u001b[39m.\u001b[39mwav_labels \u001b[39m=\u001b[39m \u001b[39mself\u001b[39;49m\u001b[39m.\u001b[39;49mget_labels(wav_dir, \u001b[39m\"\u001b[39;49m\u001b[39m.wav\u001b[39;49m\u001b[39m\"\u001b[39;49m)\n\u001b[1;32m     36\u001b[0m     \u001b[39mself\u001b[39m\u001b[39m.\u001b[39mwav_dir \u001b[39m=\u001b[39m wav_dir\n\u001b[1;32m     37\u001b[0m     \u001b[39mself\u001b[39m\u001b[39m.\u001b[39mtransform \u001b[39m=\u001b[39m transform\n",
      "File \u001b[0;32m~/Desktop/ELEC301_Project/301-ml-project/src/audio_datasets.py:22\u001b[0m, in \u001b[0;36mSpeechDataset.get_labels\u001b[0;34m(self, file_dir, file_type)\u001b[0m\n\u001b[1;32m     20\u001b[0m \u001b[39mdef\u001b[39;00m \u001b[39mget_labels\u001b[39m(\u001b[39mself\u001b[39m, file_dir, file_type):\n\u001b[1;32m     21\u001b[0m     abs_path \u001b[39m=\u001b[39m os\u001b[39m.\u001b[39mpath\u001b[39m.\u001b[39mjoin(os\u001b[39m.\u001b[39mgetcwd(), \u001b[39m\"\u001b[39m\u001b[39m..\u001b[39m\u001b[39m\"\u001b[39m, file_dir)\n\u001b[0;32m---> 22\u001b[0m     files \u001b[39m=\u001b[39m os\u001b[39m.\u001b[39;49mlistdir(abs_path)\n\u001b[1;32m     24\u001b[0m     labels \u001b[39m=\u001b[39m []\n\u001b[1;32m     26\u001b[0m     \u001b[39mfor\u001b[39;00m file \u001b[39min\u001b[39;00m files:\n",
      "\u001b[0;31mFileNotFoundError\u001b[0m: [Errno 2] No such file or directory: '/training_data/data'"
     ]
    }
   ],
   "source": [
    "# loading the raw data for feature learning\n",
    "NUM_AUDIO_DATA = 1000\n",
    "data_array = []\n",
    "label_array = []\n",
    "data = ads.SpeechAudioDataset(\"/training_data/data\")\n",
    "for idx in range(NUM_AUDIO_DATA):\n",
    "    (data, sample_rate), label = ads.SpeechAudioDataset.__getitem__(idx) #in the my_datasets code\n",
    "    data_array.append(data)\n",
    "    label_array.append(label)\n",
    "\n",
    "#circle needs kernel SVM\n",
    "#spiral needs neural network\n",
    "#plt.scatter(data[:,0], data[:,1], c=labels)\n",
    "#plt.show"
   ]
  },
  {
   "cell_type": "code",
   "execution_count": null,
   "metadata": {},
   "outputs": [],
   "source": [
    "# split into training and testing\n",
    "train_data, test_data, train_labels, test_labels = train_test_split(data_array, label_array, train_size=0.5, test_size=0.5)\n",
    "#print(data.shape, train_data.shape, test_data.shape)"
   ]
  },
  {
   "cell_type": "code",
   "execution_count": null,
   "metadata": {},
   "outputs": [],
   "source": [
    "train_ten, test_ten = torch.tensor(train_data), torch.tensor(test_data)\n",
    "train_y_ten, test_y_ten = torch.tensor(train_labels), torch.tensor(test_labels)\n",
    "\n",
    "train_dataset = tdata.TensorDataset(train_ten, train_y_ten)\n",
    "\n",
    "train_loader = tdata.DataLoader(train_dataset, batch_size=32) #this is the data loader"
   ]
  },
  {
   "cell_type": "code",
   "execution_count": null,
   "metadata": {},
   "outputs": [],
   "source": [
    "#implementing kernel SVM\n",
    "class MLP(torch.nn.Module):\n",
    "  def __init__(self):\n",
    "    super().__init__()\n",
    "\n",
    "    self.fc1 = torch.nn.Linear(in_features=2, out_features=6)\n",
    "    self.fc2 = torch.nn.Linear(in_features=6, out_features=6)\n",
    "    self.fc3 = torch.nn.Linear(in_features=6, out_features=1)\n",
    "    # 6 neurons on 2 hidden layers\n",
    "\n",
    "  def forward(self, x):\n",
    "    x1 = torch.relu(self.fc1(x))\n",
    "    x2 = torch.relu(self.fc2(x1))\n",
    "    x3 = self.fc3(x2) #usually left linear\n",
    "    return torch.sigmoid(x3) #for classification"
   ]
  },
  {
   "cell_type": "code",
   "execution_count": null,
   "metadata": {},
   "outputs": [],
   "source": [
    "n_epochs = 1000 #essentially number of iterations\n",
    "\n",
    "#instantiating a model\n",
    "model = MLP()\n",
    "\n",
    "#loss function\n",
    "criterion = torch.nn.BCELoss() #binary cross-entropy loss, clamps log values to protect against extremes\n",
    "\n",
    "#optimizer mechanism\n",
    "optimizer = torch.optim.Adam(lr=1e-2, params=model.parameters())\n",
    "\n",
    "loss_array = np.zeros(n_epochs)\n",
    "#something about test accuracy here - see final code\n",
    "for epoch_idx in range(n_epochs):\n",
    "  for batch in train_loader:\n",
    "    data_batch, labels_batch = batch\n",
    "\n",
    "    # move to GPU if available - data_batch = data_batch.cuda() etc.\n",
    "\n",
    "    #predict\n",
    "    labels_pred = model(data_batch)\n",
    "\n",
    "    #compute loss\n",
    "    loss = criterion(labels_pred.flatten(), labels_batch) #note: cross entropy is not symmetric\n",
    "\n",
    "    loss_array[epoch_idx] += loss.item()/data_batch.shape[0] #mean of loss\n",
    "    #plotting the precision\n",
    "    #with torch.no_grad():\n",
    "      #test_pred = model(test_ten).flatten()\n",
    "      #test_loss =\n",
    " \n",
    "    #backprop\n",
    "    optimizer.zero_grad()\n",
    "    loss.backward() #backprop from pytorch\n",
    "    optimizer.step() #all params optimized\n",
    "\n",
    "  #if epoch_idx%50 == 0:\n",
    "  #  fig.data[0].y = loss_array[:epoch_idx]\n",
    "  #  fig.update_yaxes(type='log')"
   ]
  }
 ],
 "metadata": {
  "kernelspec": {
   "display_name": "Python 3.8.2 ('ELEC301_Project_Env': venv)",
   "language": "python",
   "name": "python3"
  },
  "language_info": {
   "codemirror_mode": {
    "name": "ipython",
    "version": 3
   },
   "file_extension": ".py",
   "mimetype": "text/x-python",
   "name": "python",
   "nbconvert_exporter": "python",
   "pygments_lexer": "ipython3",
   "version": "3.8.2"
  },
  "orig_nbformat": 4,
  "vscode": {
   "interpreter": {
    "hash": "aca442fef5256e74b96d97f836a0c32828151a74af2591d3ef43ba10ce6d2e05"
   }
  }
 },
 "nbformat": 4,
 "nbformat_minor": 2
}
