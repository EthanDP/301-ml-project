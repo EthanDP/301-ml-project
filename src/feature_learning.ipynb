{
 "cells": [
  {
   "cell_type": "code",
   "execution_count": 47,
   "metadata": {},
   "outputs": [],
   "source": [
    "# this code implements a deep neural network for feature learning\n",
    "# this code comes from Vishwa's class on constructing a data loader and creating a model\n",
    "\n",
    "# Some common system imports\n",
    "import os\n",
    "import sys\n",
    "import importlib\n",
    "import time\n",
    "\n",
    "# Numeric computing\n",
    "import numpy as np\n",
    "\n",
    "# Sklearn functions are useful for generating train/test splits, and metrics\n",
    "from sklearn.model_selection import train_test_split\n",
    "from sklearn.metrics import classification_report\n",
    "\n",
    "from scipy.io import wavfile\n",
    "\n",
    "# pytorch\n",
    "import torch\n",
    "import torch.utils.data as tdata\n",
    "\n",
    "# Plotting (if we want it)\n",
    "import matplotlib.pyplot as plt\n",
    "\n",
    "# importing our own modules\n",
    "import audio_datasets as ads"
   ]
  },
  {
   "cell_type": "code",
   "execution_count": null,
   "metadata": {},
   "outputs": [],
   "source": [
    "# The next two cells are to make sure that plotly live plotting works\n",
    "#fig = go.FigureWidget()\n",
    "#fig.add_scatter()\n",
    "#fig.layout.xaxis.title = \"Epoch\"\n",
    "#fig.layout.yaxis.title = \"Loss\"\n",
    "#fig.layout.height = 500\n",
    "#fig.layout.width = 500\n",
    "\n",
    "#fig"
   ]
  },
  {
   "cell_type": "code",
   "execution_count": 48,
   "metadata": {},
   "outputs": [
    {
     "name": "stdout",
     "output_type": "stream",
     "text": [
      "/home/ethandp/301-ml-project/src\n"
     ]
    }
   ],
   "source": [
    "print(os.getcwd())"
   ]
  },
  {
   "cell_type": "code",
   "execution_count": 55,
   "metadata": {},
   "outputs": [
    {
     "name": "stderr",
     "output_type": "stream",
     "text": [
      "/tmp/ipykernel_1839/3479059666.py:18: WavFileWarning: Chunk (non-data) not understood, skipping it.\n",
      "  data_array.append(wavfile.read(os.path.join(training_path, data[0]))[1])\n"
     ]
    }
   ],
   "source": [
    "# loading the raw data for feature learning\n",
    "training_path = os.path.join(os.getcwd(), \"..\", \"training_data\")\n",
    "files = os.listdir(training_path)\n",
    "wav_files = []\n",
    "file_type = \"wav\"\n",
    "LABELS = {\"neutral\": 0, \"calm\": 1, \"happy\": 2, \"sad\": 3, \"angry\": 4, \"fearful\": 5, \"disgust\": 6, \"surprised\": 7}\n",
    "\n",
    "for file in files:\n",
    "    curr_path = os.path.join(training_path, file)\n",
    "    if os.path.isfile(curr_path) and file_type in file:\n",
    "        for label in LABELS.keys():\n",
    "            if label in file:\n",
    "                wav_files.append((file, LABELS[label]))\n",
    "\n",
    "data_array = []\n",
    "label_array = []\n",
    "for data in wav_files: #in the my_datasets code\n",
    "    data_array.append(wavfile.read(os.path.join(training_path, data[0]))[1])\n",
    "    label_array.append(data[1])\n",
    "\n",
    "max_len = max([len(data) for data in data_array])\n",
    "data_array = [np.resize(data, 48000*2) for data in data_array]"
   ]
  },
  {
   "cell_type": "code",
   "execution_count": 57,
   "metadata": {},
   "outputs": [
    {
     "name": "stdout",
     "output_type": "stream",
     "text": [
      "[4, 1, 1, 6, 0, 2, 4, 6, 3, 5, 3, 1, 0, 3, 1, 7, 0, 4, 7, 5, 6, 5, 1, 2, 7, 7, 4, 4, 3, 7, 4, 3, 2, 4, 5, 2, 0, 3, 6, 7, 5, 7, 6, 5, 7, 6, 2, 7, 1, 5, 7, 3, 2, 5, 0, 7, 1, 6, 3, 0, 7, 1, 6, 5, 5, 7, 4, 2, 5, 7, 2, 0, 5, 3, 4, 5, 3, 7, 7, 4, 7, 2, 4, 4, 6, 5, 6, 4, 6, 3, 5, 6, 5, 4, 3, 4, 3, 4, 1, 1, 4, 2, 7, 2, 4, 3, 2, 0, 4, 7, 1, 2, 4, 7, 2, 6, 6, 3, 5, 6, 2, 1, 4, 7, 3, 5, 1, 7, 2, 5, 2, 4, 5, 3, 2, 6, 5, 3, 3, 1, 1, 3, 2, 5, 6, 5, 7, 4, 7, 2, 1, 7, 2, 1, 6, 1, 2, 3, 6, 4, 6, 5, 3, 7, 6, 3, 6, 3, 3, 3, 6, 2, 0, 6, 3, 0, 1, 1, 6, 7, 5, 5, 1, 6, 2, 0, 4, 0, 2, 5, 6, 4, 3, 6, 2, 5, 5, 6, 5, 6, 5, 1, 0, 2, 1, 4, 7, 4, 3, 5, 1, 3, 3, 6, 6, 4, 3, 7, 1, 7, 6, 1, 7, 2, 5, 5, 0, 2, 1, 5, 0, 3, 1, 2, 1, 6, 7, 4, 5, 2, 2, 1, 7, 1, 6, 3, 0, 5, 7, 7, 5, 5, 4, 5, 5, 7, 1, 2, 3, 4, 4, 1, 7, 5, 5, 2, 1, 1, 2, 6, 4, 3, 1, 5, 5, 1, 1, 7, 5, 1, 3, 6, 4, 2, 7, 3, 4, 1, 5, 7, 7, 5, 0, 1, 5, 5, 7, 2, 2, 3, 1, 3, 3, 4, 4, 6, 5, 2, 1, 4, 4, 6, 0, 0, 6, 1, 7, 4, 6, 7, 1, 3, 6, 5, 3, 2, 7, 7, 4, 1, 4, 7, 3, 3, 4, 1, 7, 6, 4, 7, 1, 5, 3, 1, 4, 6, 3, 1, 3, 6, 0, 6, 0, 3, 6, 1, 5, 3, 4, 2, 1, 2, 5, 2, 5, 3, 3, 3, 1, 0, 1, 4, 6, 2, 0, 4, 3, 2, 3, 3, 5, 2, 1, 2, 1, 6, 3, 4, 4, 1, 1, 4, 5, 4, 7, 6, 0, 5, 6, 0, 6, 7, 4, 6, 4, 1, 6, 5, 5, 0, 4, 5, 1, 6, 0, 6, 0, 1, 7, 7, 0, 3, 6, 0, 4, 4, 1, 1, 1, 6, 3, 0, 6, 3, 6, 5, 5, 1, 5, 6, 3, 2, 1, 6, 7, 7, 2, 2, 1, 3, 4, 7, 7, 4, 7, 4, 1, 3, 2, 2, 7, 5, 2, 2, 7, 6, 7, 3, 1, 0, 4, 1, 0, 1, 4, 4, 2, 5, 2, 3, 7, 2, 3, 7, 5, 7, 2, 0, 5, 4, 3, 6, 2, 4, 0, 3, 3, 1, 0, 0, 6, 4, 3, 3, 4, 4, 7, 2, 3, 7, 3, 6, 7, 1, 7, 4, 1, 7, 2, 5, 5, 7, 3, 2, 3, 5, 2, 6, 2, 6, 0, 1, 6, 7, 7, 4, 3, 7, 4, 7, 2, 5, 4, 0, 3, 4, 5, 3, 3, 4, 4, 1, 1, 2, 5, 5, 5, 6, 4, 2, 2, 4]\n"
     ]
    }
   ],
   "source": [
    "# split into training and testing\n",
    "train_data, test_data, train_labels, test_labels = train_test_split(data_array, label_array, train_size=0.5, test_size=0.5)\n",
    "#print(data.shape, train_data.shape, test_data.shape)"
   ]
  },
  {
   "cell_type": "code",
   "execution_count": 56,
   "metadata": {},
   "outputs": [
    {
     "name": "stdout",
     "output_type": "stream",
     "text": [
      "['disgust', 'sad', 'fearful', 'disgust', 'surprised', 'fearful', 'fearful', 'happy', 'calm', 'angry', 'calm', 'disgust', 'fearful', 'surprised', 'sad', 'disgust', 'calm', 'neutral', 'happy', 'happy', 'fearful', 'calm', 'calm', 'surprised', 'happy', 'surprised', 'happy', 'happy', 'sad', 'calm', 'angry', 'disgust', 'surprised', 'sad', 'calm', 'surprised', 'sad', 'angry', 'happy', 'sad', 'angry', 'angry', 'calm', 'fearful', 'angry', 'sad', 'fearful', 'disgust', 'happy', 'sad', 'calm', 'surprised', 'surprised', 'sad', 'surprised', 'calm', 'fearful', 'sad', 'calm', 'surprised', 'disgust', 'disgust', 'fearful', 'angry', 'disgust', 'fearful', 'fearful', 'neutral', 'calm', 'neutral', 'calm', 'surprised', 'fearful', 'angry', 'happy', 'surprised', 'angry', 'disgust', 'disgust', 'neutral', 'disgust', 'happy', 'calm', 'disgust', 'angry', 'happy', 'disgust', 'surprised', 'fearful', 'sad', 'surprised', 'disgust', 'angry', 'fearful', 'disgust', 'happy', 'fearful', 'sad', 'angry', 'surprised', 'fearful', 'happy', 'angry', 'sad', 'calm', 'neutral', 'neutral', 'happy', 'angry', 'happy', 'neutral', 'disgust', 'happy', 'surprised', 'sad', 'surprised', 'happy', 'surprised', 'sad', 'surprised', 'sad', 'fearful', 'surprised', 'calm', 'angry', 'disgust', 'happy', 'sad', 'disgust', 'fearful', 'disgust', 'calm', 'calm', 'happy', 'disgust', 'angry', 'calm', 'sad', 'calm', 'surprised', 'surprised', 'fearful', 'angry', 'calm', 'sad', 'calm', 'angry', 'neutral', 'sad', 'fearful', 'surprised', 'sad', 'calm', 'disgust', 'fearful', 'angry', 'surprised', 'happy', 'surprised', 'sad', 'calm', 'sad', 'angry', 'calm', 'sad', 'fearful', 'disgust', 'surprised', 'fearful', 'happy', 'surprised', 'angry', 'sad', 'surprised', 'calm', 'angry', 'sad', 'disgust', 'sad', 'angry', 'calm', 'angry', 'fearful', 'happy', 'fearful', 'disgust', 'happy', 'surprised', 'disgust', 'angry', 'disgust', 'fearful', 'calm', 'disgust', 'neutral', 'neutral', 'angry', 'surprised', 'happy', 'angry', 'surprised', 'angry', 'disgust', 'disgust', 'happy', 'calm', 'disgust', 'disgust', 'angry', 'calm', 'fearful', 'surprised', 'disgust', 'fearful', 'neutral', 'sad', 'disgust', 'happy', 'surprised', 'surprised', 'neutral', 'happy', 'disgust', 'angry', 'surprised', 'happy', 'surprised', 'sad', 'calm', 'fearful', 'angry', 'surprised', 'angry', 'fearful', 'angry', 'surprised', 'sad', 'calm', 'angry', 'calm', 'calm', 'surprised', 'angry', 'neutral', 'neutral', 'sad', 'angry', 'fearful', 'angry', 'calm', 'neutral', 'calm', 'sad', 'disgust', 'sad', 'disgust', 'fearful', 'neutral', 'calm', 'sad', 'disgust', 'angry', 'sad', 'disgust', 'sad', 'calm', 'surprised', 'neutral', 'fearful', 'calm', 'angry', 'angry', 'sad', 'happy', 'happy', 'neutral', 'happy', 'happy', 'disgust', 'angry', 'happy', 'sad', 'sad', 'angry', 'fearful', 'calm', 'angry', 'calm', 'sad', 'calm', 'sad', 'calm', 'happy', 'calm', 'angry', 'happy', 'angry', 'disgust', 'calm', 'sad', 'disgust', 'happy', 'happy', 'fearful', 'happy', 'calm', 'calm', 'fearful', 'fearful', 'surprised', 'happy', 'neutral', 'calm', 'disgust', 'fearful', 'sad', 'disgust', 'angry', 'angry', 'disgust', 'surprised', 'happy', 'surprised', 'surprised', 'disgust', 'angry', 'surprised', 'calm', 'happy', 'happy', 'surprised', 'disgust', 'calm', 'fearful', 'angry', 'fearful', 'fearful', 'sad', 'sad', 'angry', 'sad', 'neutral', 'sad', 'happy', 'calm', 'fearful', 'surprised', 'angry', 'angry', 'neutral', 'fearful', 'angry', 'happy', 'happy', 'calm', 'disgust', 'fearful', 'neutral', 'disgust', 'calm', 'angry', 'neutral', 'fearful', 'angry', 'disgust', 'surprised', 'sad', 'angry', 'neutral', 'surprised', 'fearful', 'happy', 'neutral', 'sad', 'angry', 'calm', 'disgust', 'disgust', 'angry', 'sad', 'angry', 'fearful', 'sad', 'calm', 'fearful', 'sad', 'happy', 'angry', 'angry', 'neutral', 'happy', 'fearful', 'happy', 'happy', 'sad', 'disgust', 'happy', 'disgust', 'disgust', 'disgust', 'sad', 'calm', 'calm', 'disgust', 'surprised', 'angry', 'surprised', 'disgust', 'neutral', 'surprised', 'happy', 'disgust', 'happy', 'disgust', 'surprised', 'fearful', 'happy', 'happy', 'sad', 'happy', 'calm', 'angry', 'sad', 'fearful', 'disgust', 'sad', 'neutral', 'happy', 'calm', 'sad', 'angry', 'disgust', 'happy', 'angry', 'angry', 'sad', 'surprised', 'sad', 'neutral', 'fearful', 'fearful', 'calm', 'angry', 'neutral', 'sad', 'sad', 'sad', 'happy', 'surprised', 'calm', 'fearful', 'surprised', 'surprised', 'angry', 'calm', 'surprised', 'disgust', 'disgust', 'happy', 'surprised', 'sad', 'fearful', 'disgust', 'happy', 'disgust', 'happy', 'happy', 'fearful', 'surprised', 'calm', 'surprised', 'angry', 'angry', 'disgust', 'sad', 'surprised', 'fearful', 'disgust', 'calm', 'fearful', 'fearful', 'fearful', 'happy', 'happy', 'fearful', 'calm', 'calm', 'angry', 'disgust', 'angry', 'angry', 'angry', 'sad', 'fearful', 'sad', 'disgust', 'surprised', 'sad', 'neutral', 'happy', 'disgust', 'sad', 'surprised', 'surprised', 'surprised', 'neutral', 'angry', 'happy', 'surprised', 'disgust', 'calm', 'fearful', 'fearful', 'happy', 'calm', 'calm', 'surprised', 'fearful', 'surprised', 'happy', 'angry', 'fearful', 'fearful', 'surprised', 'happy', 'angry', 'surprised', 'angry', 'happy', 'fearful', 'sad', 'angry', 'calm', 'surprised', 'disgust', 'fearful', 'calm', 'sad', 'calm', 'disgust', 'surprised', 'calm', 'neutral', 'disgust', 'happy', 'sad', 'happy', 'fearful', 'happy', 'happy', 'calm', 'neutral', 'angry', 'happy', 'angry', 'fearful', 'fearful', 'surprised', 'sad', 'surprised', 'neutral', 'happy']\n"
     ]
    },
    {
     "ename": "ValueError",
     "evalue": "too many dimensions 'str'",
     "output_type": "error",
     "traceback": [
      "\u001b[0;31m---------------------------------------------------------------------------\u001b[0m",
      "\u001b[0;31mValueError\u001b[0m                                Traceback (most recent call last)",
      "Cell \u001b[0;32mIn [56], line 3\u001b[0m\n\u001b[1;32m      1\u001b[0m \u001b[39mprint\u001b[39m(train_labels)\n\u001b[1;32m      2\u001b[0m train_ten, test_ten \u001b[39m=\u001b[39m torch\u001b[39m.\u001b[39mtensor(train_data), torch\u001b[39m.\u001b[39mtensor(test_data)\n\u001b[0;32m----> 3\u001b[0m train_y_ten, test_y_ten \u001b[39m=\u001b[39m torch\u001b[39m.\u001b[39;49mtensor(train_labels), torch\u001b[39m.\u001b[39mtensor(test_labels)\n\u001b[1;32m      5\u001b[0m train_dataset \u001b[39m=\u001b[39m tdata\u001b[39m.\u001b[39mTensorDataset(train_ten, train_y_ten)\n\u001b[1;32m      7\u001b[0m train_loader \u001b[39m=\u001b[39m tdata\u001b[39m.\u001b[39mDataLoader(train_dataset, batch_size\u001b[39m=\u001b[39m\u001b[39m32\u001b[39m) \u001b[39m#this is the data loader\u001b[39;00m\n",
      "\u001b[0;31mValueError\u001b[0m: too many dimensions 'str'"
     ]
    }
   ],
   "source": [
    "train_ten, test_ten = torch.tensor(train_data), torch.tensor(test_data)\n",
    "train_y_ten, test_y_ten = torch.tensor(train_labels), torch.tensor(test_labels)\n",
    "\n",
    "train_dataset = tdata.TensorDataset(train_ten, train_y_ten)\n",
    "\n",
    "train_loader = tdata.DataLoader(train_dataset, batch_size=32) #this is the data loader"
   ]
  },
  {
   "cell_type": "code",
   "execution_count": null,
   "metadata": {},
   "outputs": [],
   "source": [
    "#implementing kernel SVM\n",
    "class MLP(torch.nn.Module):\n",
    "  def __init__(self):\n",
    "    super().__init__()\n",
    "\n",
    "    self.fc1 = torch.nn.Linear(in_features=2, out_features=6)\n",
    "    self.fc2 = torch.nn.Linear(in_features=6, out_features=6)\n",
    "    self.fc3 = torch.nn.Linear(in_features=6, out_features=1)\n",
    "    # 6 neurons on 2 hidden layers\n",
    "\n",
    "  def forward(self, x):\n",
    "    x1 = torch.relu(self.fc1(x))\n",
    "    x2 = torch.relu(self.fc2(x1))\n",
    "    x3 = self.fc3(x2) #usually left linear\n",
    "    return torch.sigmoid(x3) #for classification"
   ]
  },
  {
   "cell_type": "code",
   "execution_count": null,
   "metadata": {},
   "outputs": [],
   "source": [
    "n_epochs = 1000 #essentially number of iterations\n",
    "\n",
    "#instantiating a model\n",
    "model = MLP()\n",
    "\n",
    "#loss function\n",
    "criterion = torch.nn.BCELoss() #binary cross-entropy loss, clamps log values to protect against extremes\n",
    "\n",
    "#optimizer mechanism\n",
    "optimizer = torch.optim.Adam(lr=1e-2, params=model.parameters())\n",
    "\n",
    "loss_array = np.zeros(n_epochs)\n",
    "#something about test accuracy here - see final code\n",
    "for epoch_idx in range(n_epochs):\n",
    "  for batch in train_loader:\n",
    "    data_batch, labels_batch = batch\n",
    "\n",
    "    # move to GPU if available - data_batch = data_batch.cuda() etc.\n",
    "\n",
    "    #predict\n",
    "    labels_pred = model(data_batch)\n",
    "\n",
    "    #compute loss\n",
    "    loss = criterion(labels_pred.flatten(), labels_batch) #note: cross entropy is not symmetric\n",
    "\n",
    "    loss_array[epoch_idx] += loss.item()/data_batch.shape[0] #mean of loss\n",
    "    #plotting the precision\n",
    "    #with torch.no_grad():\n",
    "      #test_pred = model(test_ten).flatten()\n",
    "      #test_loss =\n",
    " \n",
    "    #backprop\n",
    "    optimizer.zero_grad()\n",
    "    loss.backward() #backprop from pytorch\n",
    "    optimizer.step() #all params optimized\n",
    "\n",
    "  #if epoch_idx%50 == 0:\n",
    "  #  fig.data[0].y = loss_array[:epoch_idx]\n",
    "  #  fig.update_yaxes(type='log')"
   ]
  }
 ],
 "metadata": {
  "kernelspec": {
   "display_name": "Python 3.8.10 ('301-env')",
   "language": "python",
   "name": "python3"
  },
  "language_info": {
   "codemirror_mode": {
    "name": "ipython",
    "version": 3
   },
   "file_extension": ".py",
   "mimetype": "text/x-python",
   "name": "python",
   "nbconvert_exporter": "python",
   "pygments_lexer": "ipython3",
   "version": "3.8.10"
  },
  "orig_nbformat": 4,
  "vscode": {
   "interpreter": {
    "hash": "674e66aa87aabdd68b393d7619741babf92ded8a9b46469dc3a85f6d2e01e008"
   }
  }
 },
 "nbformat": 4,
 "nbformat_minor": 2
}
