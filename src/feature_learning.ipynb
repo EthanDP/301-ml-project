{
 "cells": [
  {
   "cell_type": "code",
   "execution_count": 1,
   "metadata": {},
   "outputs": [
    {
     "name": "stderr",
     "output_type": "stream",
     "text": [
      "c:\\Users\\james\\AppData\\Local\\Programs\\Python\\Python39\\lib\\site-packages\\torchaudio\\backend\\utils.py:62: UserWarning: No audio backend is available.\n",
      "  warnings.warn(\"No audio backend is available.\")\n"
     ]
    }
   ],
   "source": [
    "# this code implements a deep neural network for feature learning\n",
    "# this code comes from Vishwa's class on constructing a data loader and creating a model\n",
    "\n",
    "# Some common system imports\n",
    "import os\n",
    "import sys\n",
    "import importlib\n",
    "import time\n",
    "\n",
    "# Numeric computing\n",
    "import numpy as np\n",
    "\n",
    "# Sklearn functions are useful for generating train/test splits, and metrics\n",
    "from sklearn.model_selection import train_test_split\n",
    "from sklearn.metrics import classification_report\n",
    "\n",
    "from scipy.io import wavfile\n",
    "\n",
    "from torchaudio import transforms\n",
    "\n",
    "# pytorch\n",
    "import torch\n",
    "import torch.utils.data as tdata\n",
    "import torch.nn.functional as func\n",
    "\n",
    "# importing our own modules\n",
    "import audio_datasets as ads\n",
    "\n",
    "\n",
    "torch.set_printoptions(profile=\"full\")"
   ]
  },
  {
   "cell_type": "code",
   "execution_count": null,
   "metadata": {},
   "outputs": [],
   "source": [
    "# The next two cells are to make sure that plotly live plotting works\n",
    "#fig = go.FigureWidget()\n",
    "#fig.add_scatter()\n",
    "#fig.layout.xaxis.title = \"Epoch\"\n",
    "#fig.layout.yaxis.title = \"Loss\"\n",
    "#fig.layout.height = 500\n",
    "#fig.layout.width = 500\n",
    "\n",
    "#fig"
   ]
  },
  {
   "cell_type": "code",
   "execution_count": 48,
   "metadata": {},
   "outputs": [
    {
     "name": "stdout",
     "output_type": "stream",
     "text": [
      "/home/ethandp/301-ml-project/src\n"
     ]
    }
   ],
   "source": [
    "print(os.getcwd())"
   ]
  },
  {
   "cell_type": "code",
   "execution_count": 2,
   "metadata": {},
   "outputs": [
    {
     "name": "stderr",
     "output_type": "stream",
     "text": [
      "C:\\Users\\james\\AppData\\Local\\Temp\\ipykernel_17156\\4075586588.py:18: WavFileWarning: Chunk (non-data) not understood, skipping it.\n",
      "  data_array.append(wavfile.read(os.path.join(training_path, data[0]))[1])\n"
     ]
    }
   ],
   "source": [
    "# loading the raw data for feature learning\n",
    "training_path = os.path.join(os.getcwd(), \"..\", \"training_data/data\")\n",
    "files = os.listdir(training_path)\n",
    "wav_files = []\n",
    "file_type = \"wav\"\n",
    "LABELS = {\"neutral\": 0, \"calm\": 1, \"happy\": 2, \"sad\": 3, \"angry\": 4, \"fearful\": 5, \"disgust\": 6, \"surprised\": 7}\n",
    "\n",
    "for file in files:\n",
    "    curr_path = os.path.join(training_path, file)\n",
    "    if os.path.isfile(curr_path) and file_type in file:\n",
    "        for label in LABELS.keys():\n",
    "            if label in file:\n",
    "                wav_files.append((file, LABELS[label]))\n",
    "\n",
    "data_array = []\n",
    "label_array = []\n",
    "for data in wav_files: #in the my_datasets code\n",
    "    data_array.append(wavfile.read(os.path.join(training_path, data[0]))[1])\n",
    "    label_array.append(data[1])\n",
    "\n",
    "max_len = max([len(data) for data in data_array])\n",
    "data_array = [np.resize(data, 48000*2) for data in data_array]"
   ]
  },
  {
   "cell_type": "code",
   "execution_count": 3,
   "metadata": {},
   "outputs": [
    {
     "name": "stdout",
     "output_type": "stream",
     "text": [
      "(1125, 96000) (562, 96000) (563, 96000)\n"
     ]
    }
   ],
   "source": [
    "# split into training and testing\n",
    "train_data, test_data, train_labels, test_labels = train_test_split(data_array, label_array, train_size=0.5, test_size=0.5)\n",
    "print(np.shape(data_array), np.shape(train_data), np.shape(test_data))"
   ]
  },
  {
   "cell_type": "code",
   "execution_count": 4,
   "metadata": {},
   "outputs": [
    {
     "name": "stderr",
     "output_type": "stream",
     "text": [
      "C:\\Users\\james\\AppData\\Local\\Temp\\ipykernel_17156\\1196143632.py:1: UserWarning: Creating a tensor from a list of numpy.ndarrays is extremely slow. Please consider converting the list to a single numpy.ndarray with numpy.array() before converting to a tensor. (Triggered internally at C:\\actions-runner\\_work\\pytorch\\pytorch\\builder\\windows\\pytorch\\torch\\csrc\\utils\\tensor_new.cpp:233.)\n",
      "  train_ten, test_ten = torch.tensor(train_data), torch.tensor(test_data)\n"
     ]
    }
   ],
   "source": [
    "\n",
    "train_ten, test_ten = torch.tensor(train_data), torch.tensor(test_data)\n",
    "train_y_ten, test_y_ten = torch.tensor(train_labels), torch.tensor(test_labels)\n",
    "\n",
    "train_dataset = tdata.TensorDataset(train_ten, train_y_ten)\n",
    "\n",
    "train_loader = tdata.DataLoader(train_dataset, batch_size=64) #this is the data loader"
   ]
  },
  {
   "cell_type": "code",
   "execution_count": 24,
   "metadata": {},
   "outputs": [
    {
     "name": "stderr",
     "output_type": "stream",
     "text": [
      "c:\\Users\\james\\AppData\\Local\\Programs\\Python\\Python39\\lib\\site-packages\\torchaudio\\functional\\functional.py:571: UserWarning: At least one mel filterbank has all zero values. The value for `n_mels` (128) may be set too high. Or, the value for `n_freqs` (201) may be set too low.\n",
      "  warnings.warn(\n"
     ]
    }
   ],
   "source": [
    "n = 40\n",
    "mfcc = transforms.MFCC(sample_rate=48000, n_mfcc=n)"
   ]
  },
  {
   "cell_type": "code",
   "execution_count": 25,
   "metadata": {},
   "outputs": [],
   "source": [
    "#implementing kernel SVM\n",
    "class MLP(torch.nn.Module):\n",
    "  def __init__(self):\n",
    "    super().__init__()\n",
    "    self.fc1 = torch.nn.Linear(in_features=481*n, out_features=750)\n",
    "    self.fc2 = torch.nn.Linear(in_features=750, out_features=8) \n",
    "    #self.fc3 = torch.nn.Linear(in_features=100, out_features=8)\n",
    "    #self.classifier = torch.softmax(dim=1)\n",
    "    # 6 neurons on 2 hidden layers\n",
    "\n",
    "  def forward(self, x):\n",
    "    x1 = torch.relu(self.fc1(x))\n",
    "    #x2 = torch.relu(self.fc2(x1))\n",
    "    x2 = self.fc2(x1)\n",
    "    return torch.sigmoid(x2) #softmax doesn't seem to work\n",
    "    #return self.classifier(x3) #for classification\n",
    "    "
   ]
  },
  {
   "cell_type": "code",
   "execution_count": 26,
   "metadata": {},
   "outputs": [],
   "source": [
    "n_epochs = 40 #essentially number of iterations\n",
    "\n",
    "#instantiating a model\n",
    "model = MLP()\n",
    "\n",
    "#loss function\n",
    "criterion = torch.nn.CrossEntropyLoss() \n",
    "\n",
    "#optimizer mechanism\n",
    "optimizer = torch.optim.Adam(lr=1e-4, params=model.parameters())\n",
    "\n",
    "loss_array = np.zeros(n_epochs)\n",
    "#something about test accuracy here - see final code\n",
    "for epoch_idx in range(n_epochs):\n",
    "  for batch in train_loader:\n",
    "    data_batch, labels_batch = batch\n",
    "    # move to GPU if available - data_batch = data_batch.cuda() etc.\n",
    "    mfcc_data = mfcc(data_batch.float())\n",
    "    mfcc_data = mfcc_data.flatten(1,2)\n",
    "    #predict\n",
    "    labels_pred = model(mfcc_data)\n",
    "    #compute loss\n",
    "    loss = criterion(labels_pred, labels_batch) #note: cross entropy is not symmetric\n",
    "    loss_array[epoch_idx] += loss.item()/data_batch.shape[0] #mean of loss\n",
    "    #backprop\n",
    "    optimizer.zero_grad()\n",
    "    loss.backward() #backprop from pytorch\n",
    "    optimizer.step() #all params optimized\n",
    "\n",
    "#  if epoch_idx%50 == 0:\n",
    "#    fig.data[0].y = loss_array[:epoch_idx]\n",
    "#    fig.update_yaxes(type='log')"
   ]
  },
  {
   "cell_type": "code",
   "execution_count": null,
   "metadata": {},
   "outputs": [],
   "source": []
  },
  {
   "cell_type": "code",
   "execution_count": 27,
   "metadata": {},
   "outputs": [
    {
     "name": "stdout",
     "output_type": "stream",
     "text": [
      "              precision    recall  f1-score   support\n",
      "\n",
      "           0       0.00      0.00      0.00        38\n",
      "           1       0.00      0.00      0.00        68\n",
      "           2       0.14      1.00      0.25        79\n",
      "           3       0.00      0.00      0.00        85\n",
      "           4       0.00      0.00      0.00        72\n",
      "           5       0.00      0.00      0.00        69\n",
      "           6       0.00      0.00      0.00        81\n",
      "           7       0.00      0.00      0.00        71\n",
      "\n",
      "    accuracy                           0.14       563\n",
      "   macro avg       0.02      0.12      0.03       563\n",
      "weighted avg       0.02      0.14      0.03       563\n",
      "\n"
     ]
    },
    {
     "name": "stderr",
     "output_type": "stream",
     "text": [
      "c:\\Users\\james\\AppData\\Local\\Programs\\Python\\Python39\\lib\\site-packages\\sklearn\\metrics\\_classification.py:1334: UndefinedMetricWarning: Precision and F-score are ill-defined and being set to 0.0 in labels with no predicted samples. Use `zero_division` parameter to control this behavior.\n",
      "  _warn_prf(average, modifier, msg_start, len(result))\n",
      "c:\\Users\\james\\AppData\\Local\\Programs\\Python\\Python39\\lib\\site-packages\\sklearn\\metrics\\_classification.py:1334: UndefinedMetricWarning: Precision and F-score are ill-defined and being set to 0.0 in labels with no predicted samples. Use `zero_division` parameter to control this behavior.\n",
      "  _warn_prf(average, modifier, msg_start, len(result))\n",
      "c:\\Users\\james\\AppData\\Local\\Programs\\Python\\Python39\\lib\\site-packages\\sklearn\\metrics\\_classification.py:1334: UndefinedMetricWarning: Precision and F-score are ill-defined and being set to 0.0 in labels with no predicted samples. Use `zero_division` parameter to control this behavior.\n",
      "  _warn_prf(average, modifier, msg_start, len(result))\n"
     ]
    }
   ],
   "source": [
    "with torch.no_grad():\n",
    "  mfcc_test = mfcc(test_ten.float())\n",
    "  mfcc_test = mfcc_test.flatten(1,2)\n",
    "  test_pred = model(mfcc_test)\n",
    "\n",
    "final_pred = []\n",
    "    #Since each sample is now 8, find the index corresponding to the highest value\n",
    "for i in test_pred:\n",
    "  final_pred.append(torch.argmax(i))\n",
    "final_pred = torch.stack(final_pred)\n",
    "final_pred = final_pred.int()\n",
    "print(classification_report(test_y_ten, final_pred))\n",
    "#print(test_y_ten)p"
   ]
  }
 ],
 "metadata": {
  "kernelspec": {
   "display_name": "Python 3.9.1 64-bit",
   "language": "python",
   "name": "python3"
  },
  "language_info": {
   "codemirror_mode": {
    "name": "ipython",
    "version": 3
   },
   "file_extension": ".py",
   "mimetype": "text/x-python",
   "name": "python",
   "nbconvert_exporter": "python",
   "pygments_lexer": "ipython3",
   "version": "3.9.1"
  },
  "orig_nbformat": 4,
  "vscode": {
   "interpreter": {
    "hash": "ce49416ec5583b0c8275b442a1d04bbfd540648d21a9ae0fe7642419cc3fbdff"
   }
  }
 },
 "nbformat": 4,
 "nbformat_minor": 2
}
