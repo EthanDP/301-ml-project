{
 "cells": [
  {
   "cell_type": "code",
   "execution_count": 17,
   "metadata": {},
   "outputs": [],
   "source": [
    "# this code implements a deep neural network for feature learning\n",
    "# this code comes from Vishwa's class on constructing a data loader and creating a model\n",
    "\n",
    "# Some common system imports\n",
    "import os\n",
    "import sys\n",
    "import importlib\n",
    "import time\n",
    "\n",
    "# Numeric computing\n",
    "import numpy as np\n",
    "\n",
    "# Sklearn functions are useful for generating train/test splits, and metrics\n",
    "from sklearn.model_selection import train_test_split\n",
    "from sklearn.metrics import classification_report\n",
    "from sklearn.metrics import accuracy_score\n",
    "\n",
    "from scipy.io import wavfile\n",
    "\n",
    "from torchaudio import transforms\n",
    "\n",
    "# pytorch\n",
    "import torch\n",
    "import torch.utils.data as tdata\n",
    "import torch.nn.functional as func\n",
    "\n",
    "# importing our own modules\n",
    "import audio_datasets as ads\n",
    "\n",
    "\n",
    "torch.set_printoptions(profile=\"full\")"
   ]
  },
  {
   "cell_type": "code",
   "execution_count": 18,
   "metadata": {},
   "outputs": [
    {
     "name": "stderr",
     "output_type": "stream",
     "text": [
      "C:\\Users\\james\\AppData\\Local\\Temp\\ipykernel_21188\\4075586588.py:18: WavFileWarning: Chunk (non-data) not understood, skipping it.\n",
      "  data_array.append(wavfile.read(os.path.join(training_path, data[0]))[1])\n"
     ]
    }
   ],
   "source": [
    "# loading the raw data for feature learning\n",
    "training_path = os.path.join(os.getcwd(), \"..\", \"training_data/data\")\n",
    "files = os.listdir(training_path)\n",
    "wav_files = []\n",
    "file_type = \"wav\"\n",
    "LABELS = {\"neutral\": 0, \"calm\": 1, \"happy\": 2, \"sad\": 3, \"angry\": 4, \"fearful\": 5, \"disgust\": 6, \"surprised\": 7}\n",
    "\n",
    "for file in files:\n",
    "    curr_path = os.path.join(training_path, file)\n",
    "    if os.path.isfile(curr_path) and file_type in file:\n",
    "        for label in LABELS.keys():\n",
    "            if label in file:\n",
    "                wav_files.append((file, LABELS[label]))\n",
    "\n",
    "data_array = []\n",
    "label_array = []\n",
    "for data in wav_files: #in the my_datasets code\n",
    "    data_array.append(wavfile.read(os.path.join(training_path, data[0]))[1])\n",
    "    label_array.append(data[1])\n",
    "\n",
    "max_len = max([len(data) for data in data_array])\n",
    "data_array = [np.resize(data, 48000*2) for data in data_array]"
   ]
  },
  {
   "cell_type": "code",
   "execution_count": 19,
   "metadata": {},
   "outputs": [],
   "source": [
    "n = 12\n",
    "mfcc = transforms.MFCC(sample_rate=48000, n_mfcc=n, melkwargs={\"n_fft\": 200, \"n_mels\": 13, \"center\": False})"
   ]
  },
  {
   "cell_type": "code",
   "execution_count": 20,
   "metadata": {},
   "outputs": [],
   "source": [
    "#2D MFCC data array\n",
    "# split into training and testing\n",
    "mfcc_data = []\n",
    "for data in data_array:\n",
    "    mfcc_data_array1 = mfcc(torch.tensor(data).float())\n",
    "    mfcc_data_array1 = mfcc_data_array1.reshape(mfcc_data_array1.shape[0]*mfcc_data_array1.shape[1])\n",
    "    mfcc_data_array1 = np.array(mfcc_data_array1)\n",
    "    mfcc_data.append(mfcc_data_array1)\n",
    "mfcc_data_array = np.array(mfcc_data)   \n",
    "train_data, test_data, train_labels, test_labels = train_test_split(mfcc_data_array, label_array, train_size=0.75, test_size=0.25)"
   ]
  },
  {
   "cell_type": "code",
   "execution_count": 21,
   "metadata": {},
   "outputs": [],
   "source": [
    "\n",
    "train_ten, test_ten = torch.tensor(train_data), torch.tensor(test_data)\n",
    "train_y_ten, test_y_ten = torch.tensor(train_labels), torch.tensor(test_labels)\n",
    "\n",
    "train_dataset = tdata.TensorDataset(train_ten, train_y_ten)\n",
    "\n",
    "train_loader = tdata.DataLoader(train_dataset, batch_size=64) #this is the data loader"
   ]
  },
  {
   "cell_type": "code",
   "execution_count": 22,
   "metadata": {},
   "outputs": [
    {
     "name": "stdout",
     "output_type": "stream",
     "text": [
      "              precision    recall  f1-score   support\n",
      "\n",
      "           0       0.65      0.33      0.44        33\n",
      "           1       0.57      0.62      0.60        32\n",
      "           2       0.34      0.52      0.41        27\n",
      "           3       0.29      0.25      0.27        36\n",
      "           4       0.54      0.55      0.55        38\n",
      "           5       0.37      0.33      0.35        40\n",
      "           6       0.50      0.70      0.58        33\n",
      "           7       0.45      0.40      0.42        43\n",
      "\n",
      "    accuracy                           0.45       282\n",
      "   macro avg       0.46      0.46      0.45       282\n",
      "weighted avg       0.46      0.45      0.45       282\n",
      "\n"
     ]
    },
    {
     "name": "stderr",
     "output_type": "stream",
     "text": [
      "c:\\Users\\james\\AppData\\Local\\Programs\\Python\\Python39\\lib\\site-packages\\sklearn\\neural_network\\_multilayer_perceptron.py:702: ConvergenceWarning: Stochastic Optimizer: Maximum iterations (70) reached and the optimization hasn't converged yet.\n",
      "  warnings.warn(\n"
     ]
    }
   ],
   "source": [
    "from sklearn.neural_network import MLPClassifier\n",
    "y_pred = MLPClassifier(hidden_layer_sizes=(1200,), alpha=.1, max_iter=70, random_state=1).fit(train_data, train_labels).predict(test_data)\n",
    "print(classification_report(y_pred, test_labels))"
   ]
  },
  {
   "cell_type": "code",
   "execution_count": 24,
   "metadata": {},
   "outputs": [
    {
     "name": "stderr",
     "output_type": "stream",
     "text": [
      "c:\\Users\\james\\AppData\\Local\\Programs\\Python\\Python39\\lib\\site-packages\\sklearn\\neural_network\\_multilayer_perceptron.py:702: ConvergenceWarning: Stochastic Optimizer: Maximum iterations (70) reached and the optimization hasn't converged yet.\n",
      "  warnings.warn(\n",
      "c:\\Users\\james\\AppData\\Local\\Programs\\Python\\Python39\\lib\\site-packages\\sklearn\\neural_network\\_multilayer_perceptron.py:702: ConvergenceWarning: Stochastic Optimizer: Maximum iterations (70) reached and the optimization hasn't converged yet.\n",
      "  warnings.warn(\n",
      "c:\\Users\\james\\AppData\\Local\\Programs\\Python\\Python39\\lib\\site-packages\\sklearn\\neural_network\\_multilayer_perceptron.py:702: ConvergenceWarning: Stochastic Optimizer: Maximum iterations (70) reached and the optimization hasn't converged yet.\n",
      "  warnings.warn(\n",
      "c:\\Users\\james\\AppData\\Local\\Programs\\Python\\Python39\\lib\\site-packages\\sklearn\\neural_network\\_multilayer_perceptron.py:702: ConvergenceWarning: Stochastic Optimizer: Maximum iterations (70) reached and the optimization hasn't converged yet.\n",
      "  warnings.warn(\n",
      "c:\\Users\\james\\AppData\\Local\\Programs\\Python\\Python39\\lib\\site-packages\\sklearn\\neural_network\\_multilayer_perceptron.py:702: ConvergenceWarning: Stochastic Optimizer: Maximum iterations (70) reached and the optimization hasn't converged yet.\n",
      "  warnings.warn(\n"
     ]
    }
   ],
   "source": [
    "from sklearn.model_selection import KFold, cross_val_score\n",
    "#Cross-validation for split of 5\n",
    "k_folds = KFold(n_splits = 5)\n",
    "y_model = MLPClassifier(hidden_layer_sizes=(1200,), alpha=.1, max_iter=70, random_state=1)\n",
    "scores = cross_val_score(y_model, train_data, train_labels, cv = k_folds)"
   ]
  },
  {
   "cell_type": "code",
   "execution_count": 27,
   "metadata": {},
   "outputs": [
    {
     "name": "stdout",
     "output_type": "stream",
     "text": [
      "[0.40236686 0.38461538 0.4556213  0.33928571 0.46428571]\n"
     ]
    }
   ],
   "source": [
    "print(scores)\n",
    "#y_cross = scores.predict(test_data)\n",
    "#print(classification_report(y_cross, test_labels))"
   ]
  },
  {
   "cell_type": "code",
   "execution_count": null,
   "metadata": {},
   "outputs": [],
   "source": [
    "#This section is for parameter selection\n",
    "y_pred = MLPClassifier(max_iter=70)\n",
    "\n",
    "parameter_space = {\n",
    "    'hidden_layer_sizes': [(1200, 1200), (1200,)],\n",
    "    'random_state' : [1, 3]\n",
    "}\n",
    "\n",
    "from sklearn.model_selection import GridSearchCV\n",
    "\n",
    "clf = GridSearchCV(y_pred, parameter_space, n_jobs=-1, cv=5)\n",
    "clf.fit(train_data, train_labels)"
   ]
  },
  {
   "cell_type": "code",
   "execution_count": null,
   "metadata": {},
   "outputs": [],
   "source": [
    "print('Best parameters found:\\n', clf.best_params_)\n",
    "\n",
    "#All results\n",
    "\n",
    "means = clf.cv_results_['mean_test_score']\n",
    "stds = clf.cv_results_['std_test_score']\n",
    "for mean, std, params in zip(means, stds, clf.cv_results_['params']):\n",
    "    print(\"%0.3f (+/-%0.03f) for %r\" % (mean, std * 2, params))"
   ]
  }
 ],
 "metadata": {
  "kernelspec": {
   "display_name": "Python 3.9.1 64-bit",
   "language": "python",
   "name": "python3"
  },
  "language_info": {
   "codemirror_mode": {
    "name": "ipython",
    "version": 3
   },
   "file_extension": ".py",
   "mimetype": "text/x-python",
   "name": "python",
   "nbconvert_exporter": "python",
   "pygments_lexer": "ipython3",
   "version": "3.9.1"
  },
  "orig_nbformat": 4,
  "vscode": {
   "interpreter": {
    "hash": "ce49416ec5583b0c8275b442a1d04bbfd540648d21a9ae0fe7642419cc3fbdff"
   }
  }
 },
 "nbformat": 4,
 "nbformat_minor": 2
}
