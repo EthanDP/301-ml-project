{
 "cells": [
  {
   "cell_type": "code",
   "execution_count": 27,
   "metadata": {},
   "outputs": [],
   "source": [
    "# this code implements a deep neural network for feature learning\n",
    "# this code comes from Vishwa's class on constructing a data loader and creating a model\n",
    "\n",
    "# Some common system imports\n",
    "import os\n",
    "import sys\n",
    "import importlib\n",
    "import time\n",
    "\n",
    "# Numeric computing\n",
    "import numpy as np\n",
    "\n",
    "# Sklearn functions are useful for generating train/test splits, and metrics\n",
    "from sklearn.model_selection import train_test_split\n",
    "from sklearn.metrics import classification_report\n",
    "\n",
    "from scipy.io import wavfile\n",
    "\n",
    "# pytorch\n",
    "import torch\n",
    "import torch.utils.data as tdata\n",
    "\n",
    "# Plotting (if we want it)\n",
    "import matplotlib.pyplot as plt\n",
    "\n",
    "# importing our own modules\n",
    "import audio_datasets as ads"
   ]
  },
  {
   "cell_type": "code",
   "execution_count": null,
   "metadata": {},
   "outputs": [],
   "source": [
    "# The next two cells are to make sure that plotly live plotting works\n",
    "#fig = go.FigureWidget()\n",
    "#fig.add_scatter()\n",
    "#fig.layout.xaxis.title = \"Epoch\"\n",
    "#fig.layout.yaxis.title = \"Loss\"\n",
    "#fig.layout.height = 500\n",
    "#fig.layout.width = 500\n",
    "\n",
    "#fig"
   ]
  },
  {
   "cell_type": "code",
   "execution_count": 28,
   "metadata": {},
   "outputs": [
    {
     "name": "stdout",
     "output_type": "stream",
     "text": [
      "/home/ethandp/301-ml-project/src\n"
     ]
    }
   ],
   "source": [
    "print(os.getcwd())"
   ]
  },
  {
   "cell_type": "code",
   "execution_count": 35,
   "metadata": {},
   "outputs": [
    {
     "name": "stderr",
     "output_type": "stream",
     "text": [
      "/tmp/ipykernel_1839/2582648299.py:18: WavFileWarning: Chunk (non-data) not understood, skipping it.\n",
      "  data_array.append(wavfile.read(os.path.join(training_path, data[0]))[1])\n"
     ]
    },
    {
     "name": "stdout",
     "output_type": "stream",
     "text": [
      "['sad', 'sad', 'calm', 'surprised', 'sad', 'calm', 'surprised', 'angry', 'angry', 'angry', 'fearful', 'disgust', 'disgust', 'calm', 'happy', 'happy', 'happy', 'sad', 'calm', 'calm', 'surprised', 'happy', 'sad', 'sad', 'happy', 'angry', 'calm', 'fearful', 'disgust', 'happy', 'surprised', 'happy', 'happy', 'happy', 'sad', 'surprised', 'calm', 'surprised', 'angry', 'angry', 'happy', 'sad', 'fearful', 'sad', 'disgust', 'surprised', 'disgust', 'angry', 'happy', 'disgust', 'surprised', 'calm', 'disgust', 'fearful', 'happy', 'fearful', 'surprised', 'happy', 'calm', 'calm', 'surprised', 'surprised', 'sad', 'disgust', 'surprised', 'disgust', 'fearful', 'disgust', 'happy', 'surprised', 'sad', 'angry', 'angry', 'angry', 'sad', 'happy', 'disgust', 'sad', 'angry', 'disgust', 'surprised', 'sad', 'angry', 'surprised', 'happy', 'surprised', 'calm', 'surprised', 'happy', 'fearful', 'calm', 'calm', 'happy', 'sad', 'disgust', 'happy', 'fearful', 'fearful', 'happy', 'calm', 'disgust', 'surprised', 'sad', 'sad', 'fearful', 'sad', 'disgust', 'fearful', 'happy', 'angry', 'happy', 'calm', 'angry', 'sad', 'fearful', 'angry', 'sad', 'angry', 'calm', 'sad', 'fearful', 'happy', 'fearful', 'disgust', 'sad', 'disgust', 'happy', 'calm', 'disgust', 'disgust', 'disgust', 'calm', 'calm', 'fearful', 'calm', 'calm', 'fearful', 'sad', 'surprised', 'angry', 'calm', 'surprised', 'happy', 'angry', 'fearful', 'disgust', 'happy', 'happy', 'sad', 'surprised', 'surprised', 'fearful', 'calm', 'fearful', 'angry', 'calm', 'calm', 'disgust', 'sad', 'disgust', 'sad', 'sad', 'disgust', 'calm', 'angry', 'sad', 'sad', 'disgust', 'sad', 'disgust', 'disgust', 'surprised', 'disgust', 'happy', 'happy', 'sad', 'calm', 'fearful', 'happy', 'fearful', 'disgust', 'fearful', 'angry', 'sad', 'sad', 'happy', 'calm', 'happy', 'disgust', 'surprised', 'surprised', 'calm', 'calm', 'happy', 'sad', 'fearful', 'sad', 'calm', 'calm', 'calm', 'angry', 'fearful', 'surprised', 'happy', 'happy', 'calm', 'sad', 'calm', 'happy', 'angry', 'sad', 'fearful', 'calm', 'happy', 'fearful', 'fearful', 'angry', 'happy', 'fearful', 'disgust', 'calm', 'angry', 'fearful', 'happy', 'disgust', 'happy', 'fearful', 'disgust', 'disgust', 'fearful', 'fearful', 'disgust', 'fearful', 'angry', 'fearful', 'happy', 'angry', 'sad', 'disgust', 'disgust', 'sad', 'disgust', 'angry', 'sad', 'surprised', 'surprised', 'happy', 'surprised', 'angry', 'angry', 'fearful', 'happy', 'surprised', 'calm', 'happy', 'disgust', 'surprised', 'sad', 'happy', 'calm', 'disgust', 'angry', 'fearful', 'angry', 'sad', 'fearful', 'fearful', 'disgust', 'sad', 'angry', 'calm', 'calm', 'surprised', 'sad', 'fearful', 'surprised', 'happy', 'happy', 'disgust', 'sad', 'disgust', 'surprised', 'fearful', 'surprised', 'angry', 'surprised', 'happy', 'sad', 'fearful', 'disgust', 'disgust', 'surprised', 'disgust', 'sad', 'happy', 'fearful', 'surprised', 'surprised', 'calm', 'angry', 'happy', 'disgust', 'surprised', 'calm', 'fearful', 'fearful', 'fearful', 'sad', 'sad', 'fearful', 'angry', 'angry', 'happy', 'angry', 'sad', 'happy', 'sad', 'sad', 'surprised', 'surprised', 'disgust', 'disgust', 'angry', 'angry', 'calm', 'fearful', 'calm', 'happy', 'fearful', 'disgust', 'disgust', 'angry', 'surprised', 'calm', 'angry', 'surprised', 'sad', 'disgust', 'fearful', 'sad', 'calm', 'disgust', 'disgust', 'happy', 'fearful', 'calm', 'sad', 'surprised', 'disgust', 'surprised', 'sad', 'angry', 'disgust', 'disgust', 'happy', 'calm', 'calm', 'fearful', 'sad', 'fearful', 'fearful', 'happy', 'sad', 'surprised', 'sad', 'calm', 'disgust', 'angry', 'sad', 'surprised', 'surprised', 'disgust', 'sad', 'calm', 'fearful', 'surprised', 'angry', 'sad', 'fearful', 'angry', 'angry', 'fearful', 'angry', 'calm', 'disgust', 'sad', 'calm', 'angry', 'surprised', 'happy', 'fearful', 'calm', 'sad', 'happy', 'sad', 'happy', 'disgust', 'angry', 'angry', 'happy', 'happy', 'fearful', 'angry', 'angry', 'fearful', 'calm', 'surprised', 'angry', 'angry', 'surprised', 'calm', 'sad', 'calm', 'sad', 'surprised', 'disgust', 'disgust', 'disgust', 'disgust', 'disgust', 'angry', 'fearful', 'calm', 'happy', 'surprised', 'happy', 'angry', 'happy', 'happy', 'sad', 'calm', 'calm', 'disgust', 'happy', 'happy', 'happy', 'sad', 'calm', 'fearful', 'surprised', 'angry', 'disgust', 'surprised', 'surprised', 'happy', 'angry', 'surprised', 'angry', 'angry', 'disgust', 'happy', 'disgust', 'surprised', 'calm', 'sad', 'surprised', 'disgust', 'fearful', 'happy', 'happy', 'angry', 'sad', 'happy', 'surprised', 'disgust', 'sad', 'sad', 'fearful', 'disgust', 'fearful', 'disgust', 'surprised', 'sad', 'angry', 'angry', 'sad', 'angry', 'happy', 'calm', 'sad', 'sad', 'disgust', 'happy', 'surprised', 'angry', 'surprised', 'fearful', 'disgust', 'surprised', 'fearful', 'happy', 'angry', 'angry', 'fearful', 'sad', 'surprised', 'surprised', 'disgust', 'surprised', 'angry', 'fearful', 'sad', 'angry', 'fearful', 'fearful', 'surprised', 'disgust', 'disgust', 'fearful', 'angry', 'disgust', 'fearful', 'happy', 'fearful', 'calm', 'angry', 'calm', 'sad', 'surprised', 'disgust', 'fearful', 'disgust', 'sad', 'surprised', 'fearful', 'surprised', 'surprised', 'disgust', 'disgust', 'sad', 'sad', 'angry', 'calm', 'surprised', 'calm', 'surprised', 'happy', 'surprised', 'surprised', 'calm', 'surprised', 'happy', 'sad', 'angry', 'surprised', 'fearful', 'fearful', 'fearful', 'calm', 'disgust', 'surprised', 'surprised', 'surprised', 'angry', 'sad', 'fearful', 'angry', 'surprised', 'disgust', 'calm', 'happy', 'surprised', 'surprised', 'disgust', 'disgust', 'disgust', 'fearful', 'sad', 'happy', 'disgust', 'disgust', 'fearful', 'happy', 'angry', 'happy', 'happy', 'fearful', 'surprised', 'angry', 'happy', 'happy', 'disgust', 'disgust', 'happy', 'surprised', 'angry', 'surprised', 'disgust', 'fearful', 'calm', 'disgust', 'angry', 'angry', 'happy', 'happy', 'happy', 'happy', 'disgust', 'sad', 'sad', 'sad', 'fearful', 'disgust', 'happy', 'fearful', 'fearful', 'calm', 'fearful', 'calm', 'angry', 'calm', 'sad', 'fearful', 'happy', 'calm', 'calm', 'angry', 'angry', 'sad', 'calm', 'surprised', 'disgust', 'sad', 'sad', 'surprised', 'sad', 'surprised', 'happy', 'happy', 'disgust', 'sad', 'disgust', 'angry', 'angry', 'sad', 'sad', 'happy', 'happy', 'angry', 'calm', 'fearful', 'happy', 'disgust', 'disgust', 'sad', 'angry', 'calm', 'surprised', 'calm', 'calm', 'calm', 'fearful', 'angry', 'happy', 'disgust', 'sad', 'surprised', 'happy', 'surprised', 'fearful', 'angry', 'calm', 'happy', 'fearful', 'sad', 'fearful', 'fearful', 'surprised', 'surprised', 'angry', 'disgust', 'calm', 'fearful', 'disgust', 'fearful', 'fearful', 'calm', 'angry', 'angry', 'angry', 'surprised', 'happy', 'calm', 'happy', 'happy', 'happy', 'calm', 'calm', 'happy', 'fearful', 'angry', 'sad', 'angry', 'happy', 'disgust', 'sad', 'fearful', 'surprised', 'calm', 'disgust', 'angry', 'angry', 'happy', 'calm', 'angry', 'sad', 'happy', 'sad', 'happy', 'surprised', 'angry', 'angry', 'sad', 'happy', 'angry', 'sad', 'calm', 'happy', 'calm', 'fearful', 'happy', 'fearful', 'angry', 'angry', 'disgust', 'surprised', 'angry', 'sad', 'fearful', 'disgust', 'happy', 'sad', 'angry', 'disgust', 'calm', 'calm', 'surprised', 'disgust', 'angry', 'disgust', 'sad', 'fearful', 'fearful', 'fearful', 'happy', 'angry', 'calm', 'disgust', 'angry', 'disgust', 'fearful', 'sad', 'calm', 'surprised', 'angry', 'sad', 'sad', 'angry', 'sad', 'calm', 'angry', 'sad', 'sad', 'fearful', 'disgust', 'disgust', 'sad', 'surprised', 'disgust', 'surprised', 'angry', 'sad', 'calm', 'calm', 'calm', 'happy', 'calm', 'calm', 'surprised', 'fearful', 'calm', 'happy', 'sad', 'calm', 'sad', 'fearful', 'fearful', 'calm', 'sad', 'happy', 'angry', 'calm', 'angry', 'surprised', 'disgust', 'disgust', 'surprised', 'happy', 'calm', 'angry', 'happy', 'disgust', 'disgust', 'angry', 'surprised', 'sad', 'happy', 'fearful', 'angry', 'surprised', 'disgust', 'angry', 'sad', 'fearful', 'angry', 'sad', 'surprised', 'calm', 'angry', 'happy', 'calm', 'disgust', 'surprised', 'fearful', 'fearful', 'calm', 'calm', 'surprised', 'fearful', 'calm', 'calm', 'angry', 'disgust', 'angry', 'fearful', 'sad', 'disgust', 'surprised', 'fearful', 'angry', 'surprised', 'surprised', 'calm', 'surprised', 'angry', 'calm', 'sad', 'fearful', 'fearful', 'surprised', 'fearful', 'fearful', 'sad', 'disgust', 'angry', 'sad', 'sad', 'angry', 'angry', 'sad', 'disgust', 'angry', 'calm', 'happy', 'sad', 'calm', 'calm', 'angry', 'happy', 'calm', 'surprised', 'fearful', 'happy', 'sad', 'angry', 'angry', 'calm', 'sad', 'surprised', 'calm', 'fearful', 'disgust', 'calm', 'surprised', 'happy', 'fearful', 'sad', 'happy', 'calm', 'fearful', 'happy', 'calm', 'surprised', 'happy', 'surprised', 'fearful', 'angry', 'calm', 'calm', 'disgust', 'surprised', 'surprised', 'angry', 'sad', 'fearful', 'fearful', 'fearful', 'angry', 'surprised', 'happy', 'calm', 'surprised', 'surprised', 'calm', 'happy', 'happy', 'calm', 'angry', 'sad', 'sad', 'happy', 'calm', 'happy', 'surprised', 'surprised', 'surprised', 'calm', 'disgust', 'angry', 'disgust', 'happy', 'sad', 'surprised', 'surprised', 'disgust', 'fearful', 'disgust', 'fearful', 'calm', 'fearful', 'sad', 'fearful', 'calm', 'disgust', 'sad', 'calm', 'disgust', 'angry', 'calm', 'disgust', 'angry', 'happy', 'surprised', 'happy', 'sad', 'disgust', 'sad', 'fearful', 'disgust', 'calm', 'fearful', 'surprised', 'fearful', 'angry', 'calm', 'angry', 'surprised', 'angry', 'calm', 'calm', 'happy', 'happy', 'surprised', 'happy', 'surprised', 'fearful', 'disgust', 'surprised', 'surprised', 'fearful', 'angry', 'fearful', 'sad', 'fearful', 'disgust', 'happy', 'happy', 'disgust', 'fearful', 'calm', 'sad', 'happy', 'fearful', 'disgust', 'disgust', 'angry', 'fearful', 'calm', 'calm', 'angry', 'surprised', 'fearful', 'surprised', 'calm', 'angry', 'surprised', 'fearful', 'fearful', 'disgust', 'happy', 'angry', 'calm', 'disgust', 'fearful', 'sad', 'calm', 'disgust', 'disgust', 'surprised', 'calm', 'sad', 'happy', 'calm', 'happy', 'surprised', 'surprised', 'sad', 'angry', 'surprised', 'angry', 'angry', 'sad', 'sad', 'disgust', 'fearful', 'happy', 'happy', 'disgust', 'calm', 'surprised', 'surprised', 'happy', 'fearful', 'sad', 'happy', 'sad', 'fearful', 'surprised', 'calm', 'disgust']\n"
     ]
    }
   ],
   "source": [
    "# loading the raw data for feature learning\n",
    "training_path = os.path.join(os.getcwd(), \"..\", \"training_data\")\n",
    "files = os.listdir(training_path)\n",
    "wav_files = []\n",
    "file_type = \"wav\"\n",
    "LABELS = set((\"calm\", \"happy\", \"sad\", \"angry\", \"fearful\", \"disgust\", \"surprised\"))\n",
    "\n",
    "for file in files:\n",
    "    curr_path = os.path.join(training_path, file)\n",
    "    if os.path.isfile(curr_path) and file_type in file:\n",
    "        for label in LABELS:\n",
    "            if label in file:\n",
    "                wav_files.append((file, label))\n",
    "\n",
    "data_array = []\n",
    "label_array = []\n",
    "for data in wav_files: #in the my_datasets code\n",
    "    data_array.append(wavfile.read(os.path.join(training_path, data[0]))[1])\n",
    "    label_array.append(data[1])\n",
    "\n",
    "#circle needs kernel SVM\n",
    "#spiral needs neural network\n",
    "#plt.scatter(data[:,0], data[:,1], c=labels)\n",
    "#plt.show"
   ]
  },
  {
   "cell_type": "code",
   "execution_count": null,
   "metadata": {},
   "outputs": [],
   "source": []
  },
  {
   "cell_type": "code",
   "execution_count": null,
   "metadata": {},
   "outputs": [],
   "source": [
    "# split into training and testing\n",
    "train_data, test_data, train_labels, test_labels = train_test_split(data_array, label_array, train_size=0.5, test_size=0.5)\n",
    "#print(data.shape, train_data.shape, test_data.shape)"
   ]
  },
  {
   "cell_type": "code",
   "execution_count": null,
   "metadata": {},
   "outputs": [],
   "source": [
    "train_ten, test_ten = torch.tensor(train_data), torch.tensor(test_data)\n",
    "train_y_ten, test_y_ten = torch.tensor(train_labels), torch.tensor(test_labels)\n",
    "\n",
    "train_dataset = tdata.TensorDataset(train_ten, train_y_ten)\n",
    "\n",
    "train_loader = tdata.DataLoader(train_dataset, batch_size=32) #this is the data loader"
   ]
  },
  {
   "cell_type": "code",
   "execution_count": null,
   "metadata": {},
   "outputs": [],
   "source": [
    "#implementing kernel SVM\n",
    "class MLP(torch.nn.Module):\n",
    "  def __init__(self):\n",
    "    super().__init__()\n",
    "\n",
    "    self.fc1 = torch.nn.Linear(in_features=2, out_features=6)\n",
    "    self.fc2 = torch.nn.Linear(in_features=6, out_features=6)\n",
    "    self.fc3 = torch.nn.Linear(in_features=6, out_features=1)\n",
    "    # 6 neurons on 2 hidden layers\n",
    "\n",
    "  def forward(self, x):\n",
    "    x1 = torch.relu(self.fc1(x))\n",
    "    x2 = torch.relu(self.fc2(x1))\n",
    "    x3 = self.fc3(x2) #usually left linear\n",
    "    return torch.sigmoid(x3) #for classification"
   ]
  },
  {
   "cell_type": "code",
   "execution_count": null,
   "metadata": {},
   "outputs": [],
   "source": [
    "n_epochs = 1000 #essentially number of iterations\n",
    "\n",
    "#instantiating a model\n",
    "model = MLP()\n",
    "\n",
    "#loss function\n",
    "criterion = torch.nn.BCELoss() #binary cross-entropy loss, clamps log values to protect against extremes\n",
    "\n",
    "#optimizer mechanism\n",
    "optimizer = torch.optim.Adam(lr=1e-2, params=model.parameters())\n",
    "\n",
    "loss_array = np.zeros(n_epochs)\n",
    "#something about test accuracy here - see final code\n",
    "for epoch_idx in range(n_epochs):\n",
    "  for batch in train_loader:\n",
    "    data_batch, labels_batch = batch\n",
    "\n",
    "    # move to GPU if available - data_batch = data_batch.cuda() etc.\n",
    "\n",
    "    #predict\n",
    "    labels_pred = model(data_batch)\n",
    "\n",
    "    #compute loss\n",
    "    loss = criterion(labels_pred.flatten(), labels_batch) #note: cross entropy is not symmetric\n",
    "\n",
    "    loss_array[epoch_idx] += loss.item()/data_batch.shape[0] #mean of loss\n",
    "    #plotting the precision\n",
    "    #with torch.no_grad():\n",
    "      #test_pred = model(test_ten).flatten()\n",
    "      #test_loss =\n",
    " \n",
    "    #backprop\n",
    "    optimizer.zero_grad()\n",
    "    loss.backward() #backprop from pytorch\n",
    "    optimizer.step() #all params optimized\n",
    "\n",
    "  #if epoch_idx%50 == 0:\n",
    "  #  fig.data[0].y = loss_array[:epoch_idx]\n",
    "  #  fig.update_yaxes(type='log')"
   ]
  }
 ],
 "metadata": {
  "kernelspec": {
   "display_name": "Python 3.8.10 ('301-env')",
   "language": "python",
   "name": "python3"
  },
  "language_info": {
   "codemirror_mode": {
    "name": "ipython",
    "version": 3
   },
   "file_extension": ".py",
   "mimetype": "text/x-python",
   "name": "python",
   "nbconvert_exporter": "python",
   "pygments_lexer": "ipython3",
   "version": "3.8.10"
  },
  "orig_nbformat": 4,
  "vscode": {
   "interpreter": {
    "hash": "674e66aa87aabdd68b393d7619741babf92ded8a9b46469dc3a85f6d2e01e008"
   }
  }
 },
 "nbformat": 4,
 "nbformat_minor": 2
}
