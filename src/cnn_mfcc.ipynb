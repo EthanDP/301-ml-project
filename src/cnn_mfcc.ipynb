{
 "cells": [
  {
   "cell_type": "code",
   "execution_count": 3,
   "metadata": {},
   "outputs": [],
   "source": [
    "# this code implements a deep neural network for feature learning\n",
    "# this code comes from Vishwa's class on constructing a data loader and creating a model\n",
    "\n",
    "# Some common system imports\n",
    "import os\n",
    "import sys\n",
    "import importlib\n",
    "import time\n",
    "import csv\n",
    "\n",
    "# Numeric computing\n",
    "import numpy as np\n",
    "\n",
    "# Sklearn functions are useful for generating train/test splits, and metrics\n",
    "from sklearn.model_selection import train_test_split\n",
    "from sklearn.metrics import classification_report\n",
    "from sklearn.ensemble import RandomForestClassifier\n",
    "\n",
    "from scipy.io import wavfile\n",
    "\n",
    "# pytorch\n",
    "import torch\n",
    "import torch.utils.data as tdata\n",
    "from torchaudio import transforms\n",
    "\n",
    "# Plotting (if we want it)\n",
    "import matplotlib.pyplot as plt\n",
    "\n",
    "# importing our own modules\n",
    "import audio_datasets as ads"
   ]
  },
  {
   "cell_type": "code",
   "execution_count": 4,
   "metadata": {},
   "outputs": [
    {
     "name": "stderr",
     "output_type": "stream",
     "text": [
      "/var/folders/q8/zv6syryd4jb5q3z96sz1_lm80000gn/T/ipykernel_21123/3951241112.py:18: WavFileWarning: Chunk (non-data) not understood, skipping it.\n",
      "  data_array.append(wavfile.read(os.path.join(training_path, data[0]))[1])\n"
     ]
    },
    {
     "name": "stdout",
     "output_type": "stream",
     "text": [
      "240000\n"
     ]
    }
   ],
   "source": [
    "# loading the raw data for feature learning\n",
    "training_path = os.path.join(os.getcwd(), \"..\", \"training_data/data\") #need to change this back before pushing ***\n",
    "files = os.listdir(training_path)\n",
    "wav_files = []\n",
    "file_type = \"wav\"\n",
    "LABELS = {\"neutral\": 0, \"calm\": 1, \"happy\": 2, \"sad\": 3, \"angry\": 4, \"fearful\": 5, \"disgust\": 6, \"surprised\": 7}\n",
    "\n",
    "for file in files:\n",
    "    curr_path = os.path.join(training_path, file)\n",
    "    if os.path.isfile(curr_path) and file_type in file:\n",
    "        for label in LABELS.keys():\n",
    "            if label in file:\n",
    "                wav_files.append((file, LABELS[label]))\n",
    "\n",
    "data_array = []\n",
    "label_array = []\n",
    "for data in wav_files: #in the my_datasets code\n",
    "    data_array.append(wavfile.read(os.path.join(training_path, data[0]))[1])\n",
    "    label_array.append(data[1])\n",
    "\n",
    "max_len = max([len(data) for data in data_array])\n",
    "data_array = [np.resize(data, 48000*5) for data in data_array]\n",
    "print(len(data_array[0]))"
   ]
  },
  {
   "cell_type": "code",
   "execution_count": 5,
   "metadata": {},
   "outputs": [
    {
     "name": "stderr",
     "output_type": "stream",
     "text": [
      "/var/folders/q8/zv6syryd4jb5q3z96sz1_lm80000gn/T/ipykernel_21123/2606776394.py:5: UserWarning: Creating a tensor from a list of numpy.ndarrays is extremely slow. Please consider converting the list to a single numpy.ndarray with numpy.array() before converting to a tensor. (Triggered internally at /Users/runner/work/pytorch/pytorch/pytorch/torch/csrc/utils/tensor_new.cpp:233.)\n",
      "  train_ten, test_ten = torch.tensor(train_data), torch.tensor(test_data)\n"
     ]
    }
   ],
   "source": [
    "# split into training and testing\n",
    "train_data, test_data, train_labels, test_labels = train_test_split(data_array, label_array, train_size=0.5, test_size=0.5)\n",
    "#print(data.shape, train_data.shape, test_data.shape)\n",
    "\n",
    "train_ten, test_ten = torch.tensor(train_data), torch.tensor(test_data)\n",
    "train_y_ten, test_y_ten = torch.tensor(train_labels), torch.tensor(test_labels)"
   ]
  },
  {
   "cell_type": "code",
   "execution_count": 6,
   "metadata": {},
   "outputs": [
    {
     "name": "stderr",
     "output_type": "stream",
     "text": [
      "/Users/davisjackson/Desktop/ELEC301_Project/ELEC301_Project_Env/lib/python3.8/site-packages/torchaudio/functional/functional.py:571: UserWarning: At least one mel filterbank has all zero values. The value for `n_mels` (128) may be set too high. Or, the value for `n_freqs` (201) may be set too low.\n",
      "  warnings.warn(\n"
     ]
    },
    {
     "name": "stdout",
     "output_type": "stream",
     "text": [
      "torch.Size([562, 240000])\n",
      "torch.Size([40, 1201])\n"
     ]
    }
   ],
   "source": [
    "#implementing the Mel-frequency cepstrum coefficients as feature vectors\n",
    "mfcc = transforms.MFCC(sample_rate=48000, n_mfcc=40)\n",
    "print(train_ten.shape)\n",
    "#mel_spectrogram = transforms.MelSpectrogram(sample_rate=48000, n_fft=400, n_mels=1)\n",
    "#print(\"2\", mel_spectrogram(train_ten[0].float()).shape)\n",
    "#print(\"2.5\", mfcc(mel_spectrogram(train_ten[0].float())).shape)\n",
    "print(mfcc(train_ten[0].float()).shape)\n",
    "mfcc_features = np.zeros((562, 48040))\n",
    "for row in range(562):\n",
    "    mel_coef = np.array(mfcc(train_ten[row].float()))\n",
    "    mel_coef = mel_coef.reshape((1, 48040))\n",
    "    mfcc_features[row] = mel_coef"
   ]
  },
  {
   "cell_type": "code",
   "execution_count": 7,
   "metadata": {},
   "outputs": [],
   "source": [
    "#implementing the Mel-frequency cepstrum coefficients as feature vectors\n",
    "mfcc2 = transforms.MFCC(sample_rate=48000, n_mfcc=40)\n",
    "#mel_spectrogram = transforms.MelSpectrogram(sample_rate=48000, n_fft=400, n_mels=1)\n",
    "#print(\"2\", mel_spectrogram(train_ten[0].float()).shape)\n",
    "#print(\"2.5\", mfcc(mel_spectrogram(train_ten[0].float())).shape)\n",
    "mfcc_test_features = np.zeros((562, 48040))\n",
    "for row in range(562):\n",
    "    mel_coef = np.array(mfcc2(test_ten[row].float()))\n",
    "    mel_coef = mel_coef.reshape((1, 48040))\n",
    "    mfcc_test_features[row] = mel_coef"
   ]
  },
  {
   "cell_type": "code",
   "execution_count": 21,
   "metadata": {},
   "outputs": [
    {
     "name": "stderr",
     "output_type": "stream",
     "text": [
      "/var/folders/q8/zv6syryd4jb5q3z96sz1_lm80000gn/T/ipykernel_21123/1339304125.py:5: UserWarning: To copy construct from a tensor, it is recommended to use sourceTensor.clone().detach() or sourceTensor.clone().detach().requires_grad_(True), rather than torch.tensor(sourceTensor).\n",
      "  mfcc_features = torch.tensor(mfcc_features)\n"
     ]
    },
    {
     "name": "stdout",
     "output_type": "stream",
     "text": [
      "torch.Size([50, 48038])\n"
     ]
    }
   ],
   "source": [
    "# convolution layer\n",
    "# structure comes from IBM website\n",
    "# will use mel_coef as feautre vectors\n",
    "\n",
    "mfcc_features = torch.tensor(mfcc_features)\n",
    "\n",
    "CONV_KERNEL = 3\n",
    "conv_layer = torch.nn.Conv1d(562, 50, CONV_KERNEL)\n",
    "\n",
    "conv_out = conv_layer(mfcc_features)\n",
    "\n",
    "print(conv_out.shape)\n",
    "\n"
   ]
  },
  {
   "cell_type": "code",
   "execution_count": 22,
   "metadata": {},
   "outputs": [
    {
     "data": {
      "text/plain": [
       "torch.Size([800600])"
      ]
     },
     "execution_count": 22,
     "metadata": {},
     "output_type": "execute_result"
    }
   ],
   "source": [
    "# pooling layer\n",
    "KERNEL_SIZE = 3\n",
    "pooling_layer = torch.nn.MaxPool1d(KERNEL_SIZE)\n",
    "\n",
    "pooled_out = pooling_layer(conv_out)\n",
    "\n",
    "pooled_out = pooled_out.flatten()\n",
    "pooled_out.shape"
   ]
  },
  {
   "cell_type": "code",
   "execution_count": null,
   "metadata": {},
   "outputs": [],
   "source": [
    "# fully connected layer\n",
    "#implementing kernel SVM\n",
    "class MLP(torch.nn.Module):\n",
    "  def __init__(self):\n",
    "    super().__init__()\n",
    "\n",
    "    self.fc1 = torch.nn.Linear(in_features=800600, out_features=400000)\n",
    "    self.fc2 = torch.nn.Linear(in_features=400000, out_features=200000)\n",
    "    self.fc3 = torch.nn.Linear(in_features=200000, out_features=2000)\n",
    "    self.fc4 = torch.nn.Linear(in_features=2000, out_features=200)\n",
    "    self.fc5 = torch.nn.Linear(in_features=200, out_features=20)\n",
    "    self.fc6 = torch.nn.Linear(in_feature=20, out_features=8)\n",
    "    self.classifier = torch.softmax(dim=1)\n",
    "\n",
    "  def forward(self, x):\n",
    "    x1 = torch.relu(self.fc1(x))\n",
    "    x2 = torch.relu(self.fc2(x1))\n",
    "    x3 = torch.relu(self.fc3(x2))\n",
    "    x4 = torch.relu(self.fc4(x3))\n",
    "    x5 = torch.relu(self.fc5(x4))\n",
    "    x6 = self.fc3(x5) #usually left linear\n",
    "    return self.classifier(x3) #for classification"
   ]
  },
  {
   "cell_type": "code",
   "execution_count": null,
   "metadata": {},
   "outputs": [],
   "source": [
    "n_epochs = 10 #essentially number of iterations\n",
    "\n",
    "#instantiating a model\n",
    "model = MLP()\n",
    "\n",
    "#loss function\n",
    "criterion = torch.nn.CrossEntropyLoss() #binary cross-entropy loss, clamps log values to protect against extremes\n",
    "\n",
    "#optimizer mechanism\n",
    "optimizer = torch.optim.Adam(lr=1e-2, params=model.parameters())\n",
    "\n",
    "loss_array = np.zeros(n_epochs)\n",
    "#something about test accuracy here - see final code\n",
    "for epoch_idx in range(n_epochs):\n",
    "  for batch in train_loader:\n",
    "    data_batch, labels_batch = batch\n",
    "\n",
    "    # move to GPU if available - data_batch = data_batch.cuda() etc.\n",
    "\n",
    "    #predict\n",
    "    labels_pred = model(data_batch.to(torch.float32))\n",
    "\n",
    "    #compute loss\n",
    "    loss = criterion(labels_pred.flatten(), labels_batch.to(torch.float32)) #note: cross entropy is not symmetric\n",
    "\n",
    "    loss_array[epoch_idx] += loss.item()/data_batch.shape[0] #mean of loss\n",
    "    #plotting the precision\n",
    "    #with torch.no_grad():\n",
    "      #test_pred = model(test_ten).flatten()\n",
    "      #test_loss =\n",
    " \n",
    "    #backprop\n",
    "    optimizer.zero_grad()\n",
    "    loss.backward() #backprop from pytorch\n",
    "    optimizer.step() #all params optimized\n",
    "\n",
    "  #if epoch_idx%50 == 0:\n",
    "  #  fig.data[0].y = loss_array[:epoch_idx]\n",
    "  #  fig.update_yaxes(type='log')"
   ]
  },
  {
   "cell_type": "code",
   "execution_count": null,
   "metadata": {},
   "outputs": [],
   "source": [
    "forest2 = RandomForestClassifier() #gnb and y_pred lines directly from scikit-learn website documentation for Naive-Bayes\n",
    "print(mfcc_features.shape, train_y_ten.shape)\n",
    "y_pred2 = forest2.fit(mfcc_features, train_labels).predict(mfcc_test_features)\n",
    "y_pred2 = list(y_pred2)\n",
    "\n",
    "'''\n",
    "LABEL_CONVERTER = dict([(value, key) for key, value in LABELS.items()])\n",
    "\n",
    "#counting the mislabeled points\n",
    "\n",
    "with open(\"bayes_results.csv\", \"w+\") as result_file:\n",
    "   writer = csv.writer(result_file)\n",
    "   writer.writerow([\"filename\", \"label\"])\n",
    "\n",
    "   for idx in range(len(y_pred)):\n",
    "       writer.writerow([os.path.splitext(test_wav_files[idx])[0], LABEL_CONVERTER[y_pred[idx]]])\n",
    "'''\n",
    "#print(classification_report(test_y_ten, test_pred))\n",
    "correct = 0\n",
    "for label in range(len(y_pred2)):\n",
    "    if y_pred2[label] == test_labels[label]:\n",
    "        correct += 1\n",
    "print(\"Number of correct labels: \", correct)\n",
    "#print(\"Number of mislabeled points out of a total %d points : %d\", (len(test_labels), (test_labels != y_pred2).sum()))"
   ]
  }
 ],
 "metadata": {
  "kernelspec": {
   "display_name": "Python 3.8.2 ('ELEC301_Project_Env': venv)",
   "language": "python",
   "name": "python3"
  },
  "language_info": {
   "codemirror_mode": {
    "name": "ipython",
    "version": 3
   },
   "file_extension": ".py",
   "mimetype": "text/x-python",
   "name": "python",
   "nbconvert_exporter": "python",
   "pygments_lexer": "ipython3",
   "version": "3.8.2"
  },
  "orig_nbformat": 4,
  "vscode": {
   "interpreter": {
    "hash": "aca442fef5256e74b96d97f836a0c32828151a74af2591d3ef43ba10ce6d2e05"
   }
  }
 },
 "nbformat": 4,
 "nbformat_minor": 2
}
