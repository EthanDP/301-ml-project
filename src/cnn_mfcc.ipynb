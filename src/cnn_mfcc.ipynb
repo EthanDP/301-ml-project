{
 "cells": [
  {
   "cell_type": "code",
   "execution_count": 126,
   "metadata": {},
   "outputs": [],
   "source": [
    "# this code implements a deep neural network for feature learning\n",
    "# this code comes from Vishwa's class on constructing a data loader and creating a model\n",
    "\n",
    "# Some common system imports\n",
    "import os\n",
    "import sys\n",
    "import importlib\n",
    "import time\n",
    "import csv\n",
    "\n",
    "# Numeric computing\n",
    "import numpy as np\n",
    "\n",
    "# Sklearn functions are useful for generating train/test splits, and metrics\n",
    "from sklearn.model_selection import train_test_split\n",
    "from sklearn.metrics import classification_report\n",
    "from sklearn.ensemble import RandomForestClassifier\n",
    "\n",
    "from scipy.io import wavfile\n",
    "\n",
    "# pytorch\n",
    "import torch\n",
    "import torch.utils.data as tdata\n",
    "from torchaudio import transforms\n",
    "\n",
    "# Plotting (if we want it)\n",
    "import matplotlib.pyplot as plt\n",
    "\n",
    "# importing our own modules\n",
    "import audio_datasets as ads\n",
    "\n",
    "# for one-hot vectore\n",
    "import torch.nn.functional as func\n",
    "\n",
    "from sklearn.datasets import load_digits\n",
    "from sklearn.decomposition import KernelPCA"
   ]
  },
  {
   "cell_type": "code",
   "execution_count": 127,
   "metadata": {},
   "outputs": [
    {
     "name": "stderr",
     "output_type": "stream",
     "text": [
      "/var/folders/q8/zv6syryd4jb5q3z96sz1_lm80000gn/T/ipykernel_1337/3951241112.py:18: WavFileWarning: Chunk (non-data) not understood, skipping it.\n",
      "  data_array.append(wavfile.read(os.path.join(training_path, data[0]))[1])\n"
     ]
    },
    {
     "name": "stdout",
     "output_type": "stream",
     "text": [
      "240000\n"
     ]
    }
   ],
   "source": [
    "# loading the raw data for feature learning\n",
    "training_path = os.path.join(os.getcwd(), \"..\", \"training_data/data\") #need to change this back before pushing ***\n",
    "files = os.listdir(training_path)\n",
    "wav_files = []\n",
    "file_type = \"wav\"\n",
    "LABELS = {\"neutral\": 0, \"calm\": 1, \"happy\": 2, \"sad\": 3, \"angry\": 4, \"fearful\": 5, \"disgust\": 6, \"surprised\": 7}\n",
    "\n",
    "for file in files:\n",
    "    curr_path = os.path.join(training_path, file)\n",
    "    if os.path.isfile(curr_path) and file_type in file:\n",
    "        for label in LABELS.keys():\n",
    "            if label in file:\n",
    "                wav_files.append((file, LABELS[label]))\n",
    "\n",
    "data_array = []\n",
    "label_array = []\n",
    "for data in wav_files: #in the my_datasets code\n",
    "    data_array.append(wavfile.read(os.path.join(training_path, data[0]))[1])\n",
    "    label_array.append(data[1])\n",
    "\n",
    "max_len = max([len(data) for data in data_array])\n",
    "data_array = [np.resize(data, 48000*5) for data in data_array]\n",
    "print(len(data_array[0]))"
   ]
  },
  {
   "cell_type": "code",
   "execution_count": 128,
   "metadata": {},
   "outputs": [
    {
     "name": "stderr",
     "output_type": "stream",
     "text": [
      "/Users/davisjackson/Desktop/ELEC301_Project/ELEC301_Project_Env/lib/python3.8/site-packages/torchaudio/functional/functional.py:571: UserWarning: At least one mel filterbank has all zero values. The value for `n_mels` (44) may be set too high. Or, the value for `n_freqs` (51) may be set too low.\n",
      "  warnings.warn(\n",
      "/Users/davisjackson/Desktop/ELEC301_Project/ELEC301_Project_Env/lib/python3.8/site-packages/torchaudio/functional/functional.py:571: UserWarning: At least one mel filterbank has all zero values. The value for `n_mels` (128) may be set too high. Or, the value for `n_freqs` (51) may be set too low.\n",
      "  warnings.warn(\n"
     ]
    }
   ],
   "source": [
    "#implementing the Mel-frequency cepstrum coefficients as feature vectors\n",
    "mfcc = transforms.MFCC(sample_rate=48000, n_mfcc=40, melkwargs={\"n_fft\": 100, \"hop_length\": 140, \"n_mels\": 44, \"center\": False})\n",
    "#print(train_ten.shape)\n",
    "#mel_spectrogram = transforms.MelSpectrogram(sample_rate=48000, n_fft=400, n_mels=1)\n",
    "#print(\"2\", mel_spectrogram(train_ten[0].float()).shape)\n",
    "#print(\"2.5\", mfcc(mel_spectrogram(train_ten[0].float())).shape)\n",
    "#print(mfcc(train_ten[0].float()).shape)\n",
    "#mfcc_features = np.zeros((562, 48040))\n",
    "#for row in range(562):\n",
    "#    mel_coef = np.array(mfcc(train_ten[row].float()))\n",
    "#    mel_coef = mel_coef.reshape((1, 48040))\n",
    "#    mfcc_features[row] = mel_coef\n",
    "mfcs = transforms.MelSpectrogram(sample_rate=48000, n_fft=100)"
   ]
  },
  {
   "cell_type": "code",
   "execution_count": 129,
   "metadata": {},
   "outputs": [],
   "source": [
    "# convolution layer\n",
    "# structure comes from IBM website\n",
    "# will use mel_coef as feautre vectors\n",
    "\n",
    "#mfcc_features = torch.tensor(mfcc_features)\n",
    "\n",
    "CONV_KERNEL = 3\n",
    "conv_layer1 = torch.nn.Conv2d(1, 1, (CONV_KERNEL, CONV_KERNEL))\n",
    "#conv_layer2 = torch.nn.Conv2d(1, 1, (CONV_KERNEL, CONV_KERNEL))\n",
    "#conv_layer3 = torch.nn.Conv1d(50, 50, CONV_KERNEL)\n",
    "#conv_layer2 = torch.nn.\n",
    "#conv_layer3 = \n",
    "#conv_out = conv_layer(mfcc_features)\n",
    "\n",
    "#print(conv_out.shape)\n",
    "\n"
   ]
  },
  {
   "cell_type": "code",
   "execution_count": 154,
   "metadata": {},
   "outputs": [],
   "source": [
    "# pooling layer\n",
    "KERNEL_SIZE = 3\n",
    "pooling_layer = torch.nn.MaxPool2d(KERNEL_SIZE)\n",
    "\n",
    "#pooled_out = pooling_layer(conv_out)\n",
    "\n",
    "#pooled_out = pooled_out.flatten()\n",
    "#pooled_out.shape"
   ]
  },
  {
   "cell_type": "code",
   "execution_count": 158,
   "metadata": {},
   "outputs": [],
   "source": [
    "# fully connected layer\n",
    "#implementing kernel SVM\n",
    "class MLP(torch.nn.Module):\n",
    "  def __init__(self):\n",
    "    super().__init__()\n",
    "\n",
    "    self.fc1 = torch.nn.Linear(in_features=67158, out_features=1000)\n",
    "    self.fc2 = torch.nn.Linear(in_features=1000, out_features=100)\n",
    "    self.fc3 = torch.nn.Linear(in_features=100, out_features=8)\n",
    "    #self.fc4 = torch.nn.Linear(in_features=10, out_features=8)\n",
    "\n",
    "  def forward(self, x):\n",
    "    x1 = torch.relu(self.fc1(x))\n",
    "    x2 = torch.relu(self.fc2(x1))\n",
    "    x3 = self.fc3(x2)\n",
    "    #x4 = self.fc4(x3) #usually left linear\n",
    "    return torch.sigmoid(x3) #for classification"
   ]
  },
  {
   "cell_type": "code",
   "execution_count": 132,
   "metadata": {},
   "outputs": [
    {
     "name": "stdout",
     "output_type": "stream",
     "text": [
      "torch.Size([128, 4801])\n",
      "tensor([[ 0.0000,  0.0000,  0.0000,  ...,  0.0000,  0.0000,  0.0000],\n",
      "        [ 0.0000,  0.0000,  0.0000,  ...,  0.0000,  0.0000,  0.0000],\n",
      "        [ 0.0000,  0.0000,  0.0000,  ...,  0.0000,  0.0000,  0.0000],\n",
      "        ...,\n",
      "        [ 0.8382,  4.5661, 22.2328,  ..., 18.6454, 23.0321,  8.8485],\n",
      "        [ 0.1564,  4.2948, 11.4627,  ..., 27.4101, 16.7488, 12.5306],\n",
      "        [ 1.2654,  2.5641,  6.4479,  ..., 21.8701, 18.7278, 79.4418]])\n"
     ]
    }
   ],
   "source": [
    "mfcs_ten = mfcs(torch.tensor(data_array[0]).float())\n",
    "print(mfcs_ten.shape)\n",
    "print(mfcs_ten)"
   ]
  },
  {
   "cell_type": "code",
   "execution_count": 159,
   "metadata": {},
   "outputs": [
    {
     "name": "stdout",
     "output_type": "stream",
     "text": [
      "torch.Size([843, 1, 128, 4801])\n"
     ]
    }
   ],
   "source": [
    "# split into training and testing\n",
    "#transformer = KernelPCA(n_components=40, kernel='cosine')\n",
    "mfcs_data = []\n",
    "for data in data_array:\n",
    "    mfcs_image = mfcs(torch.tensor(data).float())\n",
    "    mfcs_data.append(np.array(mfcs_image))\n",
    "#mfcc_data_array = [np.array(mfcs(torch.tensor(data).float())) for data in data_array] #transform into mfcc before model\n",
    "train_data, test_data, train_labels, test_labels = train_test_split(mfcs_data, label_array, train_size=0.75, test_size=0.25)\n",
    "#train_data = mfcc_data_array\n",
    "#train_labels = label_array\n",
    "#print(data.shape, train_data.shape, test_data.shape)\n",
    "for i in range(len(train_data)):\n",
    "    train_data[i] = train_data[i].reshape(1, 128, 4801)\n",
    "for i in range(len(test_data)):\n",
    "    test_data[i] = test_data[i].reshape(1, 128, 4801)\n",
    "train_ten, test_ten = torch.tensor(train_data), torch.tensor(test_data)\n",
    "train_y_ten, test_y_ten = torch.tensor(train_labels), torch.tensor(test_labels)\n",
    "print(train_ten.shape)\n",
    "train_dataset = tdata.TensorDataset(train_ten, train_y_ten)\n",
    "\n",
    "train_loader = tdata.DataLoader(train_dataset, batch_size=50) #this is the data loader (just doing 1 point at a time)"
   ]
  },
  {
   "cell_type": "code",
   "execution_count": 160,
   "metadata": {},
   "outputs": [
    {
     "name": "stdout",
     "output_type": "stream",
     "text": [
      "torch.Size([843, 1, 128, 4801])\n",
      "torch.Size([282, 1, 128, 4801])\n",
      "torch.Size([843])\n",
      "torch.Size([282])\n"
     ]
    }
   ],
   "source": [
    "print(train_ten.shape)\n",
    "print(test_ten.shape)\n",
    "print(train_y_ten.shape)\n",
    "print(test_y_ten.shape)"
   ]
  },
  {
   "cell_type": "code",
   "execution_count": 161,
   "metadata": {},
   "outputs": [
    {
     "name": "stdout",
     "output_type": "stream",
     "text": [
      "0\n",
      "1\n",
      "2\n",
      "3\n",
      "4\n",
      "5\n",
      "6\n",
      "7\n",
      "8\n",
      "9\n"
     ]
    }
   ],
   "source": [
    "n_epochs = 10 #essentially number of iterations\n",
    "\n",
    "#instantiating a model\n",
    "model = MLP()\n",
    "\n",
    "#loss function\n",
    "criterion = torch.nn.CrossEntropyLoss() #binary cross-entropy loss, clamps log values to protect against extremes\n",
    "\n",
    "#optimizer mechanism\n",
    "optimizer = torch.optim.Adam(lr=1e-4, params=model.parameters())\n",
    "\n",
    "loss_array = np.zeros(n_epochs)\n",
    "#something about test accuracy here - see final code\n",
    "for epoch_idx in range(n_epochs):\n",
    "  print(epoch_idx)\n",
    "  for batch in train_loader:\n",
    "    data_batch, labels_batch = batch\n",
    "    # convolutional layer\n",
    "    #data_batch = data_batch[None, ...]\n",
    "    conv_out = conv_layer1(data_batch)\n",
    "    \n",
    "    #conv_out = conv_layer1(conv_out)\n",
    "    #conv_out = conv_layer3(conv_out)\n",
    "    relu_conv = torch.relu(conv_out)\n",
    "    #print(\"1\", conv_out.shape)\n",
    "    # pooling layer\n",
    "  \n",
    "    pooled_out = pooling_layer(relu_conv)\n",
    "    #print(\"2\", pooled_out.shape)\n",
    "    fc_layer_in = pooled_out.reshape((pooled_out.shape[0], -1))\n",
    "    # move to GPU if available - data_batch = data_batch.cuda() etc.\n",
    "    #predict\n",
    "    #print(\"3\",fc_layer_in.shape)\n",
    "    labels_pred = model(fc_layer_in.to(torch.float32))\n",
    "   \n",
    "    #print(labels_pred.shape)\n",
    "    #compute loss\n",
    "    loss = criterion(labels_pred, labels_batch) #note: cross entropy is not symmetric\n",
    "\n",
    "    loss_array[epoch_idx] += loss.item()/data_batch.shape[0] #mean of loss\n",
    "    #plotting the precision\n",
    "    #with torch.no_grad():\n",
    "      #test_pred = model(test_ten).flatten()\n",
    "      #test_loss =\n",
    " \n",
    "    #backprop\n",
    "    optimizer.zero_grad()\n",
    "    loss.backward() #backprop from pytorch\n",
    "    optimizer.step() #all params optimized\n",
    "  #if epoch_idx%50 == 0:\n",
    "  #  fig.data[0].y = loss_array[:epoch_idx]\n",
    "  #  fig.update_yaxes(type='log')"
   ]
  },
  {
   "cell_type": "code",
   "execution_count": 81,
   "metadata": {},
   "outputs": [
    {
     "name": "stderr",
     "output_type": "stream",
     "text": [
      "/var/folders/q8/zv6syryd4jb5q3z96sz1_lm80000gn/T/ipykernel_87777/2716096835.py:13: WavFileWarning: Chunk (non-data) not understood, skipping it.\n",
      "  test_data_array.append(wavfile.read(os.path.join(test_path, data))[1])\n"
     ]
    }
   ],
   "source": [
    "# loading the raw data for feature learning\n",
    "test_path = os.path.join(os.getcwd(), \"..\", \"test_data\")\n",
    "test_files = os.listdir(test_path)\n",
    "test_wav_files = []\n",
    "\n",
    "for file in test_files:\n",
    "    curr_path = os.path.join(test_path, file)\n",
    "    if os.path.isfile(curr_path) and file_type in file:\n",
    "        test_wav_files.append(file)\n",
    "\n",
    "test_data_array = []\n",
    "for data in test_wav_files: #in the my_datasets code\n",
    "    test_data_array.append(wavfile.read(os.path.join(test_path, data))[1])\n",
    "\n",
    "test_data_array = [np.resize(data, 48000*5) for data in test_data_array]"
   ]
  },
  {
   "cell_type": "code",
   "execution_count": 84,
   "metadata": {},
   "outputs": [],
   "source": [
    "# split into training and testing\n",
    "mfcc_test_data_array = [np.array(mfcc(torch.tensor(data).float())) for data in test_data_array] #transform into mfcc before model\n",
    "test_data = mfcc_test_data_array\n",
    "#print(data.shape, train_data.shape, test_data.shape)\n",
    "\n",
    "test_ten = torch.tensor(test_data)\n",
    "test_dataset = tdata.TensorDataset(test_ten)\n",
    "\n",
    "test_loader = tdata.DataLoader(test_dataset, batch_size=50)"
   ]
  },
  {
   "cell_type": "code",
   "execution_count": 163,
   "metadata": {},
   "outputs": [
    {
     "name": "stdout",
     "output_type": "stream",
     "text": [
      "              precision    recall  f1-score   support\n",
      "\n",
      "           0       0.08      0.23      0.12        22\n",
      "           1       0.13      0.58      0.22        38\n",
      "           2       0.14      0.06      0.08        36\n",
      "           3       0.13      0.13      0.13        30\n",
      "           4       0.00      0.00      0.00        40\n",
      "           5       0.67      0.05      0.09        40\n",
      "           6       0.33      0.05      0.09        38\n",
      "           7       0.00      0.00      0.00        38\n",
      "\n",
      "    accuracy                           0.13       282\n",
      "   macro avg       0.19      0.14      0.09       282\n",
      "weighted avg       0.20      0.13      0.09       282\n",
      "\n"
     ]
    },
    {
     "data": {
      "text/plain": [
       "'\\nLABEL_CONVERTER = dict([(value, key) for key, value in LABELS.items()])\\n\\n#counting the mislabeled points\\nwith open(\"cnn_results.csv\", \"w+\") as result_file:\\n    writer = csv.writer(result_file)\\n    writer.writerow([\"filename\", \"label\"])\\n\\n    for idx in range(len(test_pred)):\\n        writer.writerow([os.path.splitext(test_wav_files[idx])[0], LABEL_CONVERTER[test_pred[idx]]])\\n\\n#print(classification_report(test_y_ten, test_pred))\\n#print(\"Number of mislabeled points out of a total %d points : %d\", (test_ten.shape[0], (test_y_ten != y_pred).sum()))\\n'"
      ]
     },
     "execution_count": 163,
     "metadata": {},
     "output_type": "execute_result"
    }
   ],
   "source": [
    "test_pred = []\n",
    "test_dataset = tdata.TensorDataset(test_ten, test_y_ten)\n",
    "test_loader = tdata.DataLoader(test_dataset, batch_size=50) \n",
    "with torch.no_grad():\n",
    "  for test in test_loader:\n",
    "    # convolutional layer\n",
    "    if test[0].shape[0] != 50:\n",
    "      break\n",
    "    conv_test = conv_layer1(test[0])\n",
    "    #conv_test = conv_layer2(conv_test)\n",
    "    #conv_test = conv_layer3(conv_test)\n",
    "    relu_conv_test = torch.relu(conv_test)\n",
    "\n",
    "    # pooling layer\n",
    "    pooled_test = pooling_layer(relu_conv_test)\n",
    "    fc_layer_test = pooled_test.reshape((pooled_test.shape[0], -1))\n",
    "    \n",
    "    label_histogram = model(fc_layer_test.to(torch.float32))\n",
    "    for histogram in label_histogram:\n",
    "      test_pred.append(np.argmax(histogram).item())\n",
    "\n",
    "test_pred.extend([0]*32)\n",
    "test_pred = torch.tensor(test_pred)\n",
    "print(classification_report(test_y_ten, test_pred))\n",
    "\n",
    "'''\n",
    "LABEL_CONVERTER = dict([(value, key) for key, value in LABELS.items()])\n",
    "\n",
    "#counting the mislabeled points\n",
    "with open(\"cnn_results.csv\", \"w+\") as result_file:\n",
    "    writer = csv.writer(result_file)\n",
    "    writer.writerow([\"filename\", \"label\"])\n",
    "\n",
    "    for idx in range(len(test_pred)):\n",
    "        writer.writerow([os.path.splitext(test_wav_files[idx])[0], LABEL_CONVERTER[test_pred[idx]]])\n",
    "\n",
    "#print(classification_report(test_y_ten, test_pred))\n",
    "#print(\"Number of mislabeled points out of a total %d points : %d\", (test_ten.shape[0], (test_y_ten != y_pred).sum()))\n",
    "'''"
   ]
  }
 ],
 "metadata": {
  "kernelspec": {
   "display_name": "Python 3.8.2 ('ELEC301_Project_Env': venv)",
   "language": "python",
   "name": "python3"
  },
  "language_info": {
   "codemirror_mode": {
    "name": "ipython",
    "version": 3
   },
   "file_extension": ".py",
   "mimetype": "text/x-python",
   "name": "python",
   "nbconvert_exporter": "python",
   "pygments_lexer": "ipython3",
   "version": "3.8.2"
  },
  "orig_nbformat": 4,
  "vscode": {
   "interpreter": {
    "hash": "aca442fef5256e74b96d97f836a0c32828151a74af2591d3ef43ba10ce6d2e05"
   }
  }
 },
 "nbformat": 4,
 "nbformat_minor": 2
}
