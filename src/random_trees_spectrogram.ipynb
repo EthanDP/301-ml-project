{
 "cells": [
  {
   "cell_type": "code",
   "execution_count": 21,
   "metadata": {},
   "outputs": [],
   "source": [
    "# this code implements a deep neural network for feature learning\n",
    "# this code comes from Vishwa's class on constructing a data loader and creating a model\n",
    "\n",
    "# Some common system imports\n",
    "import os\n",
    "import sys\n",
    "import importlib\n",
    "import time\n",
    "import csv\n",
    "\n",
    "# Numeric computing\n",
    "import numpy as np\n",
    "\n",
    "# Sklearn functions are useful for generating train/test splits, and metrics\n",
    "from sklearn.model_selection import train_test_split\n",
    "from sklearn.metrics import classification_report\n",
    "from sklearn.ensemble import RandomForestClassifier\n",
    "\n",
    "from scipy.io import wavfile\n",
    "\n",
    "# pytorch\n",
    "import torch\n",
    "import torch.utils.data as tdata\n",
    "import torchaudio\n",
    "from torch.nn.functional import pad\n",
    "from torchaudio import transforms\n",
    "from torchaudio.sox_effects import apply_effects_tensor\n",
    "\n",
    "# Plotting (if we want it)\n",
    "import matplotlib.pyplot as plt\n",
    "\n",
    "# importing our own modules\n",
    "import audio_datasets as ads"
   ]
  },
  {
   "cell_type": "code",
   "execution_count": 22,
   "metadata": {},
   "outputs": [],
   "source": [
    "# loading the raw data for feature learning\n",
    "training_path = os.path.join(os.getcwd(), \"..\", \"training_data\") #need to change this back before pushing ***\n",
    "files = os.listdir(training_path)\n",
    "wav_files = []\n",
    "file_type = \"wav\"\n",
    "LABELS = {\"neutral\": 0, \"calm\": 1, \"happy\": 2, \"sad\": 3, \"angry\": 4, \"fearful\": 5, \"disgust\": 6, \"surprised\": 7}\n",
    "\n",
    "for file in files:\n",
    "    curr_path = os.path.join(training_path, file)\n",
    "    if os.path.isfile(curr_path) and file_type in file:\n",
    "        for label in LABELS.keys():\n",
    "            if label in file:\n",
    "                wav_files.append((file, LABELS[label]))\n",
    "\n",
    "data_array = []\n",
    "label_array = []\n",
    "\n",
    "for data in wav_files: #in the my_datasets code\n",
    "    waveform, samplerate = torchaudio.load(os.path.join(training_path, data[0]))\n",
    "    voice_detect = transforms.Vad(samplerate) # Consider adjusting some parameters\n",
    "    front_trimmed_waveform = voice_detect(waveform)\n",
    "    reversed_trimmed_waveform, _ = apply_effects_tensor(front_trimmed_waveform, samplerate, [[\"reverse\"]])\n",
    "    reversed_full_trimmed_waveform = voice_detect(reversed_trimmed_waveform)\n",
    "    full_trimmed_waveform, _ = apply_effects_tensor(reversed_full_trimmed_waveform, samplerate, [[\"reverse\"]])\n",
    "    data_array.append(full_trimmed_waveform)\n",
    "    label_array.append(data[1])\n",
    "\n",
    "max_length = max([data.shape[1] for data in data_array])\n",
    "train_data_array = [pad(data, [1, max_length]) for data in data_array]"
   ]
  },
  {
   "cell_type": "code",
   "execution_count": 23,
   "metadata": {},
   "outputs": [],
   "source": [
    "# loading the raw data for feature learning\n",
    "test_path = os.path.join(os.getcwd(), \"..\", \"test_data\")\n",
    "test_files = os.listdir(test_path)\n",
    "test_wav_files = []\n",
    "\n",
    "for file in test_files:\n",
    "    curr_path = os.path.join(test_path, file)\n",
    "    if os.path.isfile(curr_path) and file_type in file:\n",
    "        test_wav_files.append(file)\n",
    "\n",
    "test_data_array = []\n",
    "for data in test_wav_files: #in the my_datasets code\n",
    "    waveform, samplerate = torchaudio.load(os.path.join(test_path, data))\n",
    "    voice_detect = transforms.Vad(samplerate) # Consider adjusting some parameters\n",
    "    front_trimmed_waveform = voice_detect(waveform)\n",
    "    reversed_trimmed_waveform, _ = apply_effects_tensor(front_trimmed_waveform, samplerate, [[\"reverse\"]])\n",
    "    reversed_full_trimmed_waveform = voice_detect(reversed_trimmed_waveform)\n",
    "    full_trimmed_waveform, _ = apply_effects_tensor(reversed_full_trimmed_waveform, samplerate, [[\"reverse\"]])\n",
    "    test_data_array.append(full_trimmed_waveform)\n",
    "\n",
    "test_data_array = [pad(data, [1, max_length]) for data in test_data_array]"
   ]
  },
  {
   "cell_type": "code",
   "execution_count": 27,
   "metadata": {},
   "outputs": [
    {
     "name": "stdout",
     "output_type": "stream",
     "text": [
      "360433\n"
     ]
    },
    {
     "ename": "RuntimeError",
     "evalue": "stack expects each tensor to be equal size, but got [1, 231579] at entry 0 and [1, 233017] at entry 1",
     "output_type": "error",
     "traceback": [
      "\u001b[0;31m---------------------------------------------------------------------------\u001b[0m",
      "\u001b[0;31mRuntimeError\u001b[0m                              Traceback (most recent call last)",
      "Cell \u001b[0;32mIn [27], line 3\u001b[0m\n\u001b[1;32m      1\u001b[0m max_length \u001b[39m=\u001b[39m \u001b[39mmax\u001b[39m([data\u001b[39m.\u001b[39mshape[\u001b[39m1\u001b[39m] \u001b[39mfor\u001b[39;00m data \u001b[39min\u001b[39;00m train_data_array])\n\u001b[1;32m      2\u001b[0m \u001b[39mprint\u001b[39m(max_length)\n\u001b[0;32m----> 3\u001b[0m train_ten \u001b[39m=\u001b[39m torch\u001b[39m.\u001b[39;49mstack(train_data_array)\n\u001b[1;32m      4\u001b[0m test_ten \u001b[39m=\u001b[39m torch\u001b[39m.\u001b[39mstack(test_data_array)\n\u001b[1;32m      5\u001b[0m train_y_ten \u001b[39m=\u001b[39m torch\u001b[39m.\u001b[39mtensor(label_array)\n",
      "\u001b[0;31mRuntimeError\u001b[0m: stack expects each tensor to be equal size, but got [1, 231579] at entry 0 and [1, 233017] at entry 1"
     ]
    }
   ],
   "source": [
    "max_length = max([data.shape[1] for data in train_data_array])\n",
    "print(\"Prethingy\", max_length)\n",
    "train_data_array = [pad(data, [1, max_length]) for data in train_data_array]\n",
    "max_length = max([data.shape[1] for data in train_data_array])\n",
    "print(max_length)\n",
    "train_ten = torch.stack(train_data_array)\n",
    "test_ten = torch.stack(test_data_array)\n",
    "train_y_ten = torch.tensor(label_array)"
   ]
  },
  {
   "cell_type": "code",
   "execution_count": 9,
   "metadata": {},
   "outputs": [
    {
     "name": "stderr",
     "output_type": "stream",
     "text": [
      "/home/ethandp/venvs/301-env/lib/python3.8/site-packages/torchaudio/functional/functional.py:571: UserWarning: At least one mel filterbank has all zero values. The value for `n_mels` (128) may be set too high. Or, the value for `n_freqs` (201) may be set too low.\n",
      "  warnings.warn(\n"
     ]
    },
    {
     "name": "stdout",
     "output_type": "stream",
     "text": [
      "torch.Size([1125, 240000])\n",
      "torch.Size([60, 1201])\n",
      "3 torch.Size([1125, 240000])\n",
      "4 (1125, 72060)\n",
      "5 torch.Size([1125])\n"
     ]
    }
   ],
   "source": [
    "# #implementing the Mel-frequency cepstrum coefficients as feature vectors\n",
    "# mfcc = transforms.MFCC(sample_rate=48000, n_mfcc=60)\n",
    "# print(train_ten.shape)\n",
    "# #mel_spectrogram = transforms.MelSpectrogram(sample_rate=48000, n_fft=400, n_mels=1)\n",
    "# #print(\"2\", mel_spectrogram(train_ten[0].float()).shape)\n",
    "# #print(\"2.5\", mfcc(mel_spectrogram(train_ten[0].float())).shape)\n",
    "# print(mfcc(train_ten[0].float()).shape)\n",
    "# mfcc_features = np.zeros((len(label_array), 72060))\n",
    "# for row in range(len(label_array)):\n",
    "#     mel_coef = np.array(mfcc(train_ten[row].float()))\n",
    "#     mel_coef = mel_coef.reshape((1, 72060))\n",
    "#     mfcc_features[row] = mel_coef\n",
    "\n",
    "# print(\"3\", train_ten.size())\n",
    "# print(\"4\", mfcc_features.shape)\n",
    "# print(\"5\", train_y_ten.shape)\n",
    "\n"
   ]
  },
  {
   "cell_type": "code",
   "execution_count": 11,
   "metadata": {},
   "outputs": [
    {
     "name": "stderr",
     "output_type": "stream",
     "text": [
      "/home/ethandp/venvs/301-env/lib/python3.8/site-packages/torchaudio/functional/functional.py:571: UserWarning: At least one mel filterbank has all zero values. The value for `n_mels` (128) may be set too high. Or, the value for `n_freqs` (201) may be set too low.\n",
      "  warnings.warn(\n"
     ]
    }
   ],
   "source": [
    "#implementing the Mel-frequency cepstrum coefficients as feature vectors\n",
    "mfcc2 = transforms.MFCC(sample_rate=48000, n_mfcc=60)\n",
    "#mel_spectrogram = transforms.MelSpectrogram(sample_rate=48000, n_fft=400, n_mels=1)\n",
    "#print(\"2\", mel_spectrogram(train_ten[0].float()).shape)\n",
    "#print(\"2.5\", mfcc(mel_spectrogram(train_ten[0].float())).shape)\n",
    "mfcc_test_features = np.zeros((len(test_data_array), 72060))\n",
    "for row in range(len(test_data_array)):\n",
    "    mel_coef = np.array(mfcc2(test_ten[row].float()))\n",
    "    mel_coef = mel_coef.reshape((1, 72060))\n",
    "    mfcc_test_features[row] = mel_coef\n"
   ]
  },
  {
   "cell_type": "code",
   "execution_count": 16,
   "metadata": {},
   "outputs": [
    {
     "name": "stdout",
     "output_type": "stream",
     "text": [
      "(1125, 72060) torch.Size([1125])\n"
     ]
    }
   ],
   "source": [
    "forest2 = RandomForestClassifier(n_estimators=10000) #gnb and y_pred lines directly from scikit-learn website documentation for Naive-Bayes\n",
    "print(mfcc_features.shape, train_y_ten.shape)\n",
    "y_pred2 = forest2.fit(mfcc_features, label_array).predict(mfcc_test_features)\n",
    "y_pred2 = list(y_pred2)\n",
    "\n",
    "#print(classification_report(test_y_ten, test_pred))\n",
    "# correct = 0\n",
    "# for label in range(len(y_pred2)):\n",
    "#     if y_pred2[label] == test_labels[label]:\n",
    "#         correct += 1\n",
    "# print(\"Number of correct labels: \", correct)\n",
    "\n",
    "LABEL_CONVERTER = dict([(value, key) for key, value in LABELS.items()])\n",
    "\n",
    "#counting the mislabeled points\n",
    "with open(\"random_forest_results2.csv\", \"w+\") as result_file:\n",
    "   writer = csv.writer(result_file)\n",
    "   writer.writerow([\"filename\", \"label\"])\n",
    "\n",
    "   for idx in range(len(y_pred2)):\n",
    "       writer.writerow([os.path.splitext(test_wav_files[idx])[0], LABEL_CONVERTER[y_pred2[idx]]])\n",
    "#print(\"Number of mislabeled points out of a total %d points : %d\", (len(test_labels), (test_labels != y_pred2).sum()))"
   ]
  }
 ],
 "metadata": {
  "kernelspec": {
   "display_name": "Python 3.8.10 64-bit",
   "language": "python",
   "name": "python3"
  },
  "language_info": {
   "codemirror_mode": {
    "name": "ipython",
    "version": 3
   },
   "file_extension": ".py",
   "mimetype": "text/x-python",
   "name": "python",
   "nbconvert_exporter": "python",
   "pygments_lexer": "ipython3",
   "version": "3.8.10"
  },
  "orig_nbformat": 4,
  "vscode": {
   "interpreter": {
    "hash": "916dbcbb3f70747c44a77c7bcd40155683ae19c65e1c03b4aa3499c5328201f1"
   }
  }
 },
 "nbformat": 4,
 "nbformat_minor": 2
}
