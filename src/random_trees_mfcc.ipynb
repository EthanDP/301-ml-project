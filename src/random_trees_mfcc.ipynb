{
 "cells": [
  {
   "cell_type": "code",
   "execution_count": 1,
   "metadata": {},
   "outputs": [],
   "source": [
    "# this code implements a deep neural network for feature learning\n",
    "# this code comes from Vishwa's class on constructing a data loader and creating a model\n",
    "\n",
    "# Some common system imports\n",
    "import os\n",
    "import sys\n",
    "import importlib\n",
    "import time\n",
    "import csv\n",
    "\n",
    "# Numeric computing\n",
    "import numpy as np\n",
    "\n",
    "# Sklearn functions are useful for generating train/test splits, and metrics\n",
    "from sklearn.model_selection import train_test_split\n",
    "from sklearn.metrics import classification_report\n",
    "from sklearn.ensemble import RandomForestClassifier\n",
    "\n",
    "from scipy.io import wavfile\n",
    "\n",
    "# pytorch\n",
    "import torch\n",
    "import torch.utils.data as tdata\n",
    "from torchaudio import transforms\n",
    "\n",
    "# Plotting (if we want it)\n",
    "import matplotlib.pyplot as plt\n",
    "\n",
    "# importing our own modules\n",
    "import audio_datasets as ads"
   ]
  },
  {
   "cell_type": "code",
   "execution_count": 2,
   "metadata": {},
   "outputs": [
    {
     "name": "stderr",
     "output_type": "stream",
     "text": [
      "/var/folders/q8/zv6syryd4jb5q3z96sz1_lm80000gn/T/ipykernel_11265/752896064.py:18: WavFileWarning: Chunk (non-data) not understood, skipping it.\n",
      "  data_array.append(wavfile.read(os.path.join(training_path, data[0]))[1])\n"
     ]
    }
   ],
   "source": [
    "# loading the raw data for feature learning\n",
    "training_path = os.path.join(os.getcwd(), \"..\", \"training_data\") #need to change this back before pushing ***\n",
    "files = os.listdir(training_path)\n",
    "wav_files = []\n",
    "file_type = \"wav\"\n",
    "LABELS = {\"neutral\": 0, \"calm\": 1, \"happy\": 2, \"sad\": 3, \"angry\": 4, \"fearful\": 5, \"disgust\": 6, \"surprised\": 7}\n",
    "\n",
    "for file in files:\n",
    "    curr_path = os.path.join(training_path, file)\n",
    "    if os.path.isfile(curr_path) and file_type in file:\n",
    "        for label in LABELS.keys():\n",
    "            if label in file:\n",
    "                wav_files.append((file, LABELS[label]))\n",
    "\n",
    "data_array = []\n",
    "label_array = []\n",
    "for data in wav_files: #in the my_datasets code\n",
    "    data_array.append(wavfile.read(os.path.join(training_path, data[0]))[1])\n",
    "    label_array.append(data[1])\n",
    "\n",
    "max_len = max([len(data) for data in data_array])\n",
    "data_array = [np.resize(data, 48000*5) for data in data_array]"
   ]
  },
  {
   "cell_type": "code",
   "execution_count": 3,
   "metadata": {},
   "outputs": [],
   "source": [
    "# loading the raw data for feature learning\n",
    "test_path = os.path.join(os.getcwd(), \"..\", \"test_data\")\n",
    "test_files = os.listdir(test_path)\n",
    "test_wav_files = []\n",
    "\n",
    "for file in test_files:\n",
    "    curr_path = os.path.join(test_path, file)\n",
    "    if os.path.isfile(curr_path) and file_type in file:\n",
    "        test_wav_files.append(file)\n",
    "\n",
    "test_data_array = []\n",
    "for data in test_wav_files: #in the my_datasets code\n",
    "    test_data_array.append(wavfile.read(os.path.join(test_path, data))[1])\n",
    "\n",
    "test_data_array = [np.resize(data, 48000*5) for data in test_data_array]"
   ]
  },
  {
   "cell_type": "code",
   "execution_count": 4,
   "metadata": {},
   "outputs": [
    {
     "name": "stderr",
     "output_type": "stream",
     "text": [
      "/var/folders/q8/zv6syryd4jb5q3z96sz1_lm80000gn/T/ipykernel_11265/2606776394.py:5: UserWarning: Creating a tensor from a list of numpy.ndarrays is extremely slow. Please consider converting the list to a single numpy.ndarray with numpy.array() before converting to a tensor. (Triggered internally at /Users/runner/work/pytorch/pytorch/pytorch/torch/csrc/utils/tensor_new.cpp:233.)\n",
      "  train_ten, test_ten = torch.tensor(train_data), torch.tensor(test_data)\n"
     ]
    }
   ],
   "source": [
    "# split into training and testing\n",
    "train_data, test_data, train_labels, test_labels = train_test_split(data_array, label_array, train_size=0.5, test_size=0.5)\n",
    "#print(data.shape, train_data.shape, test_data.shape)\n",
    "\n",
    "train_ten, test_ten = torch.tensor(train_data), torch.tensor(test_data)\n",
    "train_y_ten, test_y_ten = torch.tensor(train_labels), torch.tensor(test_labels)"
   ]
  },
  {
   "cell_type": "code",
   "execution_count": 55,
   "metadata": {},
   "outputs": [
    {
     "name": "stderr",
     "output_type": "stream",
     "text": [
      "/Users/davisjackson/Library/Python/3.8/lib/python/site-packages/torchaudio/functional/functional.py:571: UserWarning: At least one mel filterbank has all zero values. The value for `n_mels` (128) may be set too high. Or, the value for `n_freqs` (201) may be set too low.\n",
      "  warnings.warn(\n"
     ]
    },
    {
     "name": "stdout",
     "output_type": "stream",
     "text": [
      "torch.Size([13, 1201])\n",
      "3 torch.Size([562, 240000])\n",
      "4 (562, 15613)\n",
      "5 torch.Size([562])\n"
     ]
    }
   ],
   "source": [
    "#implementing the Mel-frequency cepstrum coefficients as feature vectors\n",
    "mfcc = transforms.MFCC(sample_rate=48000, n_mfcc=13)\n",
    "#mel_spectrogram = transforms.MelSpectrogram(sample_rate=48000, n_fft=400, n_mels=1)\n",
    "#print(\"2\", mel_spectrogram(train_ten[0].float()).shape)\n",
    "#print(\"2.5\", mfcc(mel_spectrogram(train_ten[0].float())).shape)\n",
    "print(mfcc(train_ten[0].float()).shape)\n",
    "mfcc_features = []\n",
    "for row in range(562):\n",
    "    mel_coef = np.array(mfcc(train_ten[row].float()))\n",
    "    mel_coef = mel_coef.reshape((1, 15613))\n",
    "    mfcc_features.append(mel_coef)\n",
    "\n",
    "mfcc_features = np.array(mfcc_features)\n",
    "mfcc_features = mfcc_features.reshape((562, 15613))\n",
    "print(\"3\", train_ten.size())\n",
    "print(\"4\", mfcc_features.shape)\n",
    "print(\"5\", train_y_ten.shape)\n"
   ]
  },
  {
   "cell_type": "code",
   "execution_count": 57,
   "metadata": {},
   "outputs": [
    {
     "name": "stderr",
     "output_type": "stream",
     "text": [
      "/Users/davisjackson/Library/Python/3.8/lib/python/site-packages/torchaudio/functional/functional.py:571: UserWarning: At least one mel filterbank has all zero values. The value for `n_mels` (128) may be set too high. Or, the value for `n_freqs` (201) may be set too low.\n",
      "  warnings.warn(\n"
     ]
    }
   ],
   "source": [
    "#implementing the Mel-frequency cepstrum coefficients as feature vectors\n",
    "mfcc2 = transforms.MFCC(sample_rate=48000, n_mfcc=13)\n",
    "#mel_spectrogram = transforms.MelSpectrogram(sample_rate=48000, n_fft=400, n_mels=1)\n",
    "#print(\"2\", mel_spectrogram(train_ten[0].float()).shape)\n",
    "#print(\"2.5\", mfcc(mel_spectrogram(train_ten[0].float())).shape)\n",
    "mfcc_test_features = []\n",
    "for row in range(562):\n",
    "    mel_coef = np.array(mfcc2(test_ten[row].float()))\n",
    "    mel_coef = mel_coef.reshape((1, 15613))\n",
    "    mfcc_test_features.append(mel_coef)\n",
    "\n",
    "mfcc_test_features = np.array(mfcc_features)\n",
    "mfcc_test_features = mfcc_test_features.reshape((562, 15613))"
   ]
  },
  {
   "cell_type": "code",
   "execution_count": 68,
   "metadata": {},
   "outputs": [
    {
     "name": "stdout",
     "output_type": "stream",
     "text": [
      "(562, 15613) torch.Size([562])\n",
      "Number of correct labels:  80\n"
     ]
    }
   ],
   "source": [
    "forest2 = RandomForestClassifier() #gnb and y_pred lines directly from scikit-learn website documentation for Naive-Bayes\n",
    "print(mfcc_features.shape, train_y_ten.shape)\n",
    "y_pred2 = forest2.fit(mfcc_features, train_labels).predict(mfcc_test_features)\n",
    "y_pred2 = list(y_pred2)\n",
    "\n",
    "'''\n",
    "LABEL_CONVERTER = dict([(value, key) for key, value in LABELS.items()])\n",
    "\n",
    "#counting the mislabeled points\n",
    "\n",
    "with open(\"bayes_results.csv\", \"w+\") as result_file:\n",
    "   writer = csv.writer(result_file)\n",
    "   writer.writerow([\"filename\", \"label\"])\n",
    "\n",
    "   for idx in range(len(y_pred)):\n",
    "       writer.writerow([os.path.splitext(test_wav_files[idx])[0], LABEL_CONVERTER[y_pred[idx]]])\n",
    "'''\n",
    "#print(classification_report(test_y_ten, test_pred))\n",
    "correct = 0\n",
    "for label in range(len(y_pred2)):\n",
    "    if y_pred2[label] == test_labels[label]:\n",
    "        correct += 1\n",
    "print(\"Number of correct labels: \", correct)\n",
    "#print(\"Number of mislabeled points out of a total %d points : %d\", (len(test_labels), (test_labels != y_pred2).sum()))"
   ]
  },
  {
   "cell_type": "code",
   "execution_count": 59,
   "metadata": {},
   "outputs": [
    {
     "ename": "ValueError",
     "evalue": "Found input variables with inconsistent numbers of samples: [1125, 562]",
     "output_type": "error",
     "traceback": [
      "\u001b[0;31m---------------------------------------------------------------------------\u001b[0m",
      "\u001b[0;31mValueError\u001b[0m                                Traceback (most recent call last)",
      "\u001b[1;32m/Users/davisjackson/Desktop/ELEC301_Project/301-ml-project/src/random_trees_mfcc.ipynb Cell 8\u001b[0m in \u001b[0;36m<cell line: 2>\u001b[0;34m()\u001b[0m\n\u001b[1;32m      <a href='vscode-notebook-cell:/Users/davisjackson/Desktop/ELEC301_Project/301-ml-project/src/random_trees_mfcc.ipynb#W6sZmlsZQ%3D%3D?line=0'>1</a>\u001b[0m forest \u001b[39m=\u001b[39m RandomForestClassifier() \u001b[39m#gnb and y_pred lines directly from scikit-learn website documentation for Naive-Bayes\u001b[39;00m\n\u001b[0;32m----> <a href='vscode-notebook-cell:/Users/davisjackson/Desktop/ELEC301_Project/301-ml-project/src/random_trees_mfcc.ipynb#W6sZmlsZQ%3D%3D?line=1'>2</a>\u001b[0m y_pred \u001b[39m=\u001b[39m forest\u001b[39m.\u001b[39;49mfit(data_array, train_labels)\u001b[39m.\u001b[39mpredict(test_data)\n\u001b[1;32m      <a href='vscode-notebook-cell:/Users/davisjackson/Desktop/ELEC301_Project/301-ml-project/src/random_trees_mfcc.ipynb#W6sZmlsZQ%3D%3D?line=3'>4</a>\u001b[0m \u001b[39m#LABEL_CONVERTER = dict([(value, key) for key, value in LABELS.items()])\u001b[39;00m\n\u001b[1;32m      <a href='vscode-notebook-cell:/Users/davisjackson/Desktop/ELEC301_Project/301-ml-project/src/random_trees_mfcc.ipynb#W6sZmlsZQ%3D%3D?line=4'>5</a>\u001b[0m \n\u001b[1;32m      <a href='vscode-notebook-cell:/Users/davisjackson/Desktop/ELEC301_Project/301-ml-project/src/random_trees_mfcc.ipynb#W6sZmlsZQ%3D%3D?line=5'>6</a>\u001b[0m \u001b[39m#counting the mislabeled points\u001b[39;00m\n\u001b[1;32m      <a href='vscode-notebook-cell:/Users/davisjackson/Desktop/ELEC301_Project/301-ml-project/src/random_trees_mfcc.ipynb#W6sZmlsZQ%3D%3D?line=6'>7</a>\u001b[0m \u001b[39m'''\u001b[39;00m\n\u001b[1;32m      <a href='vscode-notebook-cell:/Users/davisjackson/Desktop/ELEC301_Project/301-ml-project/src/random_trees_mfcc.ipynb#W6sZmlsZQ%3D%3D?line=7'>8</a>\u001b[0m \u001b[39mwith open(\"bayes_results.csv\", \"w+\") as result_file:\u001b[39;00m\n\u001b[1;32m      <a href='vscode-notebook-cell:/Users/davisjackson/Desktop/ELEC301_Project/301-ml-project/src/random_trees_mfcc.ipynb#W6sZmlsZQ%3D%3D?line=8'>9</a>\u001b[0m \u001b[39m   writer = csv.writer(result_file)\u001b[39;00m\n\u001b[0;32m   (...)\u001b[0m\n\u001b[1;32m     <a href='vscode-notebook-cell:/Users/davisjackson/Desktop/ELEC301_Project/301-ml-project/src/random_trees_mfcc.ipynb#W6sZmlsZQ%3D%3D?line=12'>13</a>\u001b[0m \u001b[39m       writer.writerow([os.path.splitext(test_wav_files[idx])[0], LABEL_CONVERTER[y_pred[idx]]])\u001b[39;00m\n\u001b[1;32m     <a href='vscode-notebook-cell:/Users/davisjackson/Desktop/ELEC301_Project/301-ml-project/src/random_trees_mfcc.ipynb#W6sZmlsZQ%3D%3D?line=13'>14</a>\u001b[0m \u001b[39m'''\u001b[39;00m\n",
      "File \u001b[0;32m~/Library/Python/3.8/lib/python/site-packages/sklearn/ensemble/_forest.py:331\u001b[0m, in \u001b[0;36mBaseForest.fit\u001b[0;34m(self, X, y, sample_weight)\u001b[0m\n\u001b[1;32m    329\u001b[0m \u001b[39mif\u001b[39;00m issparse(y):\n\u001b[1;32m    330\u001b[0m     \u001b[39mraise\u001b[39;00m \u001b[39mValueError\u001b[39;00m(\u001b[39m\"\u001b[39m\u001b[39msparse multilabel-indicator for y is not supported.\u001b[39m\u001b[39m\"\u001b[39m)\n\u001b[0;32m--> 331\u001b[0m X, y \u001b[39m=\u001b[39m \u001b[39mself\u001b[39;49m\u001b[39m.\u001b[39;49m_validate_data(\n\u001b[1;32m    332\u001b[0m     X, y, multi_output\u001b[39m=\u001b[39;49m\u001b[39mTrue\u001b[39;49;00m, accept_sparse\u001b[39m=\u001b[39;49m\u001b[39m\"\u001b[39;49m\u001b[39mcsc\u001b[39;49m\u001b[39m\"\u001b[39;49m, dtype\u001b[39m=\u001b[39;49mDTYPE\n\u001b[1;32m    333\u001b[0m )\n\u001b[1;32m    334\u001b[0m \u001b[39mif\u001b[39;00m sample_weight \u001b[39mis\u001b[39;00m \u001b[39mnot\u001b[39;00m \u001b[39mNone\u001b[39;00m:\n\u001b[1;32m    335\u001b[0m     sample_weight \u001b[39m=\u001b[39m _check_sample_weight(sample_weight, X)\n",
      "File \u001b[0;32m~/Library/Python/3.8/lib/python/site-packages/sklearn/base.py:596\u001b[0m, in \u001b[0;36mBaseEstimator._validate_data\u001b[0;34m(self, X, y, reset, validate_separately, **check_params)\u001b[0m\n\u001b[1;32m    594\u001b[0m         y \u001b[39m=\u001b[39m check_array(y, input_name\u001b[39m=\u001b[39m\u001b[39m\"\u001b[39m\u001b[39my\u001b[39m\u001b[39m\"\u001b[39m, \u001b[39m*\u001b[39m\u001b[39m*\u001b[39mcheck_y_params)\n\u001b[1;32m    595\u001b[0m     \u001b[39melse\u001b[39;00m:\n\u001b[0;32m--> 596\u001b[0m         X, y \u001b[39m=\u001b[39m check_X_y(X, y, \u001b[39m*\u001b[39;49m\u001b[39m*\u001b[39;49mcheck_params)\n\u001b[1;32m    597\u001b[0m     out \u001b[39m=\u001b[39m X, y\n\u001b[1;32m    599\u001b[0m \u001b[39mif\u001b[39;00m \u001b[39mnot\u001b[39;00m no_val_X \u001b[39mand\u001b[39;00m check_params\u001b[39m.\u001b[39mget(\u001b[39m\"\u001b[39m\u001b[39mensure_2d\u001b[39m\u001b[39m\"\u001b[39m, \u001b[39mTrue\u001b[39;00m):\n",
      "File \u001b[0;32m~/Library/Python/3.8/lib/python/site-packages/sklearn/utils/validation.py:1092\u001b[0m, in \u001b[0;36mcheck_X_y\u001b[0;34m(X, y, accept_sparse, accept_large_sparse, dtype, order, copy, force_all_finite, ensure_2d, allow_nd, multi_output, ensure_min_samples, ensure_min_features, y_numeric, estimator)\u001b[0m\n\u001b[1;32m   1074\u001b[0m X \u001b[39m=\u001b[39m check_array(\n\u001b[1;32m   1075\u001b[0m     X,\n\u001b[1;32m   1076\u001b[0m     accept_sparse\u001b[39m=\u001b[39maccept_sparse,\n\u001b[0;32m   (...)\u001b[0m\n\u001b[1;32m   1087\u001b[0m     input_name\u001b[39m=\u001b[39m\u001b[39m\"\u001b[39m\u001b[39mX\u001b[39m\u001b[39m\"\u001b[39m,\n\u001b[1;32m   1088\u001b[0m )\n\u001b[1;32m   1090\u001b[0m y \u001b[39m=\u001b[39m _check_y(y, multi_output\u001b[39m=\u001b[39mmulti_output, y_numeric\u001b[39m=\u001b[39my_numeric, estimator\u001b[39m=\u001b[39mestimator)\n\u001b[0;32m-> 1092\u001b[0m check_consistent_length(X, y)\n\u001b[1;32m   1094\u001b[0m \u001b[39mreturn\u001b[39;00m X, y\n",
      "File \u001b[0;32m~/Library/Python/3.8/lib/python/site-packages/sklearn/utils/validation.py:387\u001b[0m, in \u001b[0;36mcheck_consistent_length\u001b[0;34m(*arrays)\u001b[0m\n\u001b[1;32m    385\u001b[0m uniques \u001b[39m=\u001b[39m np\u001b[39m.\u001b[39munique(lengths)\n\u001b[1;32m    386\u001b[0m \u001b[39mif\u001b[39;00m \u001b[39mlen\u001b[39m(uniques) \u001b[39m>\u001b[39m \u001b[39m1\u001b[39m:\n\u001b[0;32m--> 387\u001b[0m     \u001b[39mraise\u001b[39;00m \u001b[39mValueError\u001b[39;00m(\n\u001b[1;32m    388\u001b[0m         \u001b[39m\"\u001b[39m\u001b[39mFound input variables with inconsistent numbers of samples: \u001b[39m\u001b[39m%r\u001b[39;00m\u001b[39m\"\u001b[39m\n\u001b[1;32m    389\u001b[0m         \u001b[39m%\u001b[39m [\u001b[39mint\u001b[39m(l) \u001b[39mfor\u001b[39;00m l \u001b[39min\u001b[39;00m lengths]\n\u001b[1;32m    390\u001b[0m     )\n",
      "\u001b[0;31mValueError\u001b[0m: Found input variables with inconsistent numbers of samples: [1125, 562]"
     ]
    }
   ],
   "source": [
    "forest = RandomForestClassifier() #gnb and y_pred lines directly from scikit-learn website documentation for Naive-Bayes\n",
    "y_pred = forest.fit(data_array, train_labels).predict(test_data)\n",
    "\n",
    "#LABEL_CONVERTER = dict([(value, key) for key, value in LABELS.items()])\n",
    "\n",
    "#counting the mislabeled points\n",
    "'''\n",
    "with open(\"bayes_results.csv\", \"w+\") as result_file:\n",
    "   writer = csv.writer(result_file)\n",
    "   writer.writerow([\"filename\", \"label\"])\n",
    "\n",
    "   for idx in range(len(y_pred)):\n",
    "       writer.writerow([os.path.splitext(test_wav_files[idx])[0], LABEL_CONVERTER[y_pred[idx]]])\n",
    "'''\n",
    "print(classification_report(test_y_ten, test_pred))\n",
    "print(\"Number of mislabeled points out of a total %d points : %d\", (test_ten.shape[0], (test_y_ten != y_pred).sum()))"
   ]
  }
 ],
 "metadata": {
  "kernelspec": {
   "display_name": "Python 3.8.2 64-bit",
   "language": "python",
   "name": "python3"
  },
  "language_info": {
   "codemirror_mode": {
    "name": "ipython",
    "version": 3
   },
   "file_extension": ".py",
   "mimetype": "text/x-python",
   "name": "python",
   "nbconvert_exporter": "python",
   "pygments_lexer": "ipython3",
   "version": "3.8.2"
  },
  "orig_nbformat": 4,
  "vscode": {
   "interpreter": {
    "hash": "31f2aee4e71d21fbe5cf8b01ff0e069b9275f58929596ceb00d14d90e3e16cd6"
   }
  }
 },
 "nbformat": 4,
 "nbformat_minor": 2
}
