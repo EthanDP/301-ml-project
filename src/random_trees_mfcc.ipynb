{
 "cells": [
  {
   "cell_type": "code",
   "execution_count": 12,
   "metadata": {},
   "outputs": [],
   "source": [
    "# this code implements a deep neural network for feature learning\n",
    "# this code comes from Vishwa's class on constructing a data loader and creating a model\n",
    "\n",
    "# Some common system imports\n",
    "import os\n",
    "import sys\n",
    "import importlib\n",
    "import time\n",
    "import csv\n",
    "import random\n",
    "from subprocess import call\n",
    "\n",
    "# Numeric computing\n",
    "import numpy as np\n",
    "\n",
    "# Sklearn functions are useful for generating train/test splits, and metrics\n",
    "from sklearn.model_selection import train_test_split\n",
    "from sklearn.metrics import classification_report\n",
    "from sklearn.ensemble import RandomForestClassifier\n",
    "from sklearn.tree import export_graphviz\n",
    "\n",
    "from scipy.io import wavfile\n",
    "\n",
    "# pytorch\n",
    "import torch\n",
    "import torch.utils.data as tdata\n",
    "from torchaudio import transforms\n",
    "\n",
    "# Plotting (if we want it)\n",
    "import matplotlib.pyplot as plt\n",
    "\n",
    "# importing our own modules\n",
    "import audio_datasets as ads\n",
    "\n",
    "from IPython.display import Image"
   ]
  },
  {
   "cell_type": "code",
   "execution_count": 3,
   "metadata": {},
   "outputs": [
    {
     "name": "stderr",
     "output_type": "stream",
     "text": [
      "/tmp/ipykernel_1396/1770773789.py:20: WavFileWarning: Chunk (non-data) not understood, skipping it.\n",
      "  wav_file = wavfile.read(os.path.join(training_path, data[0]))\n"
     ]
    },
    {
     "name": "stdout",
     "output_type": "stream",
     "text": [
      "Two track audio file detected 0\n",
      "Two track audio file detected 0\n",
      "Two track audio file detected 0\n",
      "Two track audio file detected 0\n",
      "Two track audio file detected 1\n",
      "[[  3.  -5. -16. ... -16. -35. -31.]\n",
      " [  8.   8.   7. ...  24.  24.  23.]\n",
      " [ -5.   6.  30. ... -15.  -5.   4.]\n",
      " ...\n",
      " [ -4.  -6.  -5. ...  -4.  -4.  -3.]\n",
      " [ -3.   3.   3. ... 302. 306. 276.]\n",
      " [ -3.  -4.  -3. ... 491. 415. 334.]]\n"
     ]
    }
   ],
   "source": [
    "# loading the raw data for feature learning\n",
    "training_path = os.path.join(os.getcwd(), \"..\", \"training_data\") #need to change this back before pushing ***\n",
    "files = os.listdir(training_path)\n",
    "wav_files = []\n",
    "file_type = \"wav\"\n",
    "LABELS = {\"neutral\": 0, \"calm\": 1, \"happy\": 2, \"sad\": 3, \"angry\": 4, \"fearful\": 5, \"disgust\": 6, \"surprised\": 7}\n",
    "\n",
    "for file in files:\n",
    "    curr_path = os.path.join(training_path, file)\n",
    "    if os.path.isfile(curr_path) and file_type in file:\n",
    "        for label in LABELS.keys():\n",
    "            if label in file:\n",
    "                wav_files.append((file, LABELS[label]))\n",
    "\n",
    "data_array = []\n",
    "label_array = []\n",
    "max_size = 0\n",
    "\n",
    "for data in wav_files: #in the my_datasets code\n",
    "    wav_file = wavfile.read(os.path.join(training_path, data[0]))\n",
    "    audio_data = wav_file[1]\n",
    "\n",
    "    try:\n",
    "        print(\"Two track audio file detected\", audio_data[0][0])\n",
    "        audio_data = audio_data[0]\n",
    "    except:\n",
    "        pass\n",
    "\n",
    "    sample_array = [sample for sample in audio_data if abs(sample) > 2]\n",
    "\n",
    "    if len(sample_array) > max_size:\n",
    "        max_size = len(sample_array)\n",
    "\n",
    "    data_array.append(np.array(sample_array))\n",
    "    label_array.append(data[1])\n",
    "\n",
    "# original_len = len(data_array)\n",
    "# print(original_len)\n",
    "# for i in range(original_len // 2):\n",
    "#     selection = random.randint(0, original_len - 1)\n",
    "#     data_array.append(data_array[selection])\n",
    "#     label_array.append(label_array[selection])\n",
    "\n",
    "max_len = max([len(data) for data in data_array])\n",
    "train_data_array = np.array([np.resize(data, max_size) for data in data_array])\n",
    "print(train_data_array)"
   ]
  },
  {
   "cell_type": "code",
   "execution_count": 5,
   "metadata": {},
   "outputs": [
    {
     "name": "stderr",
     "output_type": "stream",
     "text": [
      "/tmp/ipykernel_1396/663531521.py:13: WavFileWarning: Chunk (non-data) not understood, skipping it.\n",
      "  waveform = wavfile.read(os.path.join(test_path, data))[1]\n"
     ]
    }
   ],
   "source": [
    "# loading the raw data for feature learning\n",
    "test_path = os.path.join(os.getcwd(), \"..\", \"test_data\")\n",
    "test_files = os.listdir(test_path)\n",
    "test_wav_files = []\n",
    "\n",
    "for file in test_files:\n",
    "    curr_path = os.path.join(test_path, file)\n",
    "    if os.path.isfile(curr_path) and file_type in file:\n",
    "        test_wav_files.append(file)\n",
    "\n",
    "test_data_array = []\n",
    "for data in test_wav_files: #in the my_datasets code\n",
    "    waveform = wavfile.read(os.path.join(test_path, data))[1]\n",
    "    audio_data = [sample for sample in waveform if abs(sample) > 2]\n",
    "    test_data_array.append(np.array(audio_data))\n",
    "\n",
    "test_data_array = np.array([np.resize(data, max_size) for data in test_data_array])"
   ]
  },
  {
   "cell_type": "code",
   "execution_count": 6,
   "metadata": {},
   "outputs": [
    {
     "name": "stdout",
     "output_type": "stream",
     "text": [
      "1125\n"
     ]
    }
   ],
   "source": [
    "train_ten, test_ten = torch.tensor(train_data_array), torch.tensor(test_data_array)\n",
    "train_y_ten = torch.tensor(label_array)\n",
    "print(len(label_array))"
   ]
  },
  {
   "cell_type": "code",
   "execution_count": 9,
   "metadata": {},
   "outputs": [
    {
     "name": "stdout",
     "output_type": "stream",
     "text": [
      "torch.Size([1125, 203174])\n",
      "torch.Size([40, 1016])\n",
      "3 torch.Size([1125, 203174])\n",
      "4 (1125, 40640)\n",
      "5 torch.Size([1125])\n"
     ]
    }
   ],
   "source": [
    "#implementing the Mel-frequency cepstrum coefficients as feature vectors\n",
    "mfcc = transforms.MFCC(sample_rate=48000, n_mfcc=40)\n",
    "print(train_ten.shape)\n",
    "#mel_spectrogram = transforms.MelSpectrogram(sample_rate=48000, n_fft=400, n_mels=1)\n",
    "#print(\"2\", mel_spectrogram(train_ten[0].float()).shape)\n",
    "#print(\"2.5\", mfcc(mel_spectrogram(train_ten[0].float())).shape)\n",
    "print(mfcc(train_ten[0].float()).shape)\n",
    "mfcc_features = np.zeros((len(label_array), 40640))\n",
    "for row in range(len(label_array)):\n",
    "    mel_coef = np.array(mfcc(train_ten[row].float()))\n",
    "    mel_coef = mel_coef.reshape((1, 40640))\n",
    "    mfcc_features[row] = mel_coef\n",
    "\n",
    "print(\"3\", train_ten.size())\n",
    "print(\"4\", mfcc_features.shape)\n",
    "print(\"5\", train_y_ten.shape)\n"
   ]
  },
  {
   "cell_type": "code",
   "execution_count": 10,
   "metadata": {},
   "outputs": [],
   "source": [
    "#implementing the Mel-frequency cepstrum coefficients as feature vectors\n",
    "mfcc2 = transforms.MFCC(sample_rate=48000, n_mfcc=40)\n",
    "#mel_spectrogram = transforms.MelSpectrogram(sample_rate=48000, n_fft=400, n_mels=1)\n",
    "#print(\"2\", mel_spectrogram(train_ten[0].float()).shape)\n",
    "#print(\"2.5\", mfcc(mel_spectrogram(train_ten[0].float())).shape)\n",
    "mfcc_test_features = np.zeros((len(test_data_array), 40640))\n",
    "for row in range(len(test_data_array)):\n",
    "    mel_coef = np.array(mfcc2(test_ten[row].float()))\n",
    "    mel_coef = mel_coef.reshape((1, 40640))\n",
    "    mfcc_test_features[row] = mel_coef\n"
   ]
  },
  {
   "cell_type": "code",
   "execution_count": 20,
   "metadata": {},
   "outputs": [
    {
     "name": "stdout",
     "output_type": "stream",
     "text": [
      "(1125, 40640) torch.Size([1125])\n",
      "(<315x4708 sparse matrix of type '<class 'numpy.int64'>'\n",
      "\twith 33157 stored elements in Compressed Sparse Row format>, array([   0,  433,  928, 1391, 1862, 2333, 2818, 3285, 3746, 4203, 4708]))\n"
     ]
    }
   ],
   "source": [
    "forest2 = RandomForestClassifier(n_estimators=10) #gnb and y_pred lines directly from scikit-learn website documentation for Naive-Bayes\n",
    "print(mfcc_features.shape, train_y_ten.shape)\n",
    "model = forest2.fit(mfcc_features, label_array)\n",
    "y_pred2 = model.predict(mfcc_test_features)\n",
    "y_pred2 = list(y_pred2)\n",
    "\n",
    "# print(classification_report(test_y_ten, test_pred))\n",
    "# correct = 0\n",
    "# for label in range(len(y_pred2)):\n",
    "#     if y_pred2[label] == test_labels[label]:\n",
    "#         correct += 1\n",
    "# print(\"Number of correct labels: \", correct)\n",
    "\n",
    "# VISUALIZATION\n",
    "print(forest2.decision_path(mfcc_test_features))\n",
    "\n",
    "estimator = model.estimators_[0]\n",
    "export_graphviz(estimator, out_file='tree.dot', \n",
    "                rounded = True, proportion = False, \n",
    "                precision = 2, filled = True,\n",
    "                max_depth = 3)\n",
    "\n",
    "call(['dot', '-Tpng', 'tree.dot', '-o', 'tree.png', '-Gdpi=600'])\n",
    "Image(filename = 'tree.png')\n",
    "\n",
    "# Saving Results\n",
    "LABEL_CONVERTER = dict([(value, key) for key, value in LABELS.items()])\n",
    "\n",
    "#counting the mislabeled points\n",
    "with open(\"random_forest_results2.csv\", \"w+\") as result_file:\n",
    "   writer = csv.writer(result_file)\n",
    "   writer.writerow([\"filename\", \"label\"])\n",
    "\n",
    "   for idx in range(len(y_pred2)):\n",
    "       writer.writerow([os.path.splitext(test_wav_files[idx])[0], LABEL_CONVERTER[y_pred2[idx]]])\n",
    "#print(\"Number of mislabeled points out of a total %d points : %d\", (len(test_labels), (test_labels != y_pred2).sum()))"
   ]
  }
 ],
 "metadata": {
  "kernelspec": {
   "display_name": "Python 3.8.10 64-bit",
   "language": "python",
   "name": "python3"
  },
  "language_info": {
   "codemirror_mode": {
    "name": "ipython",
    "version": 3
   },
   "file_extension": ".py",
   "mimetype": "text/x-python",
   "name": "python",
   "nbconvert_exporter": "python",
   "pygments_lexer": "ipython3",
   "version": "3.8.10"
  },
  "orig_nbformat": 4,
  "vscode": {
   "interpreter": {
    "hash": "916dbcbb3f70747c44a77c7bcd40155683ae19c65e1c03b4aa3499c5328201f1"
   }
  }
 },
 "nbformat": 4,
 "nbformat_minor": 2
}
