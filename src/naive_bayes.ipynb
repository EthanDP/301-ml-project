{
 "cells": [
  {
   "cell_type": "code",
   "execution_count": 5,
   "metadata": {},
   "outputs": [],
   "source": [
    "# this code implements a deep neural network for feature learning\n",
    "# this code comes from Vishwa's class on constructing a data loader and creating a model\n",
    "\n",
    "# Some common system imports\n",
    "import os\n",
    "import sys\n",
    "import importlib\n",
    "import time\n",
    "\n",
    "# Numeric computing\n",
    "import numpy as np\n",
    "\n",
    "# Sklearn functions are useful for generating train/test splits, and metrics\n",
    "from sklearn.model_selection import train_test_split\n",
    "from sklearn.metrics import classification_report\n",
    "from sklearn.naive_bayes import GaussianNB\n",
    "\n",
    "from scipy.io import wavfile\n",
    "\n",
    "# pytorch\n",
    "import torch\n",
    "import torch.utils.data as tdata\n",
    "\n",
    "# Plotting (if we want it)\n",
    "import matplotlib.pyplot as plt\n",
    "\n",
    "# importing our own modules\n",
    "import audio_datasets as ads"
   ]
  },
  {
   "cell_type": "code",
   "execution_count": 12,
   "metadata": {},
   "outputs": [
    {
     "name": "stderr",
     "output_type": "stream",
     "text": [
      "/var/folders/q8/zv6syryd4jb5q3z96sz1_lm80000gn/T/ipykernel_2464/3009555488.py:18: WavFileWarning: Chunk (non-data) not understood, skipping it.\n",
      "  data_array.append(wavfile.read(os.path.join(training_path, data[0]))[1])\n"
     ]
    }
   ],
   "source": [
    "# loading the raw data for feature learning\n",
    "training_path = os.path.join(os.getcwd(), \"..\", \"training_data/data\")\n",
    "files = os.listdir(training_path)\n",
    "wav_files = []\n",
    "file_type = \"wav\"\n",
    "LABELS = {\"neutral\": 0, \"calm\": 1, \"happy\": 2, \"sad\": 3, \"angry\": 4, \"fearful\": 5, \"disgust\": 6, \"surprised\": 7}\n",
    "\n",
    "for file in files:\n",
    "    curr_path = os.path.join(training_path, file)\n",
    "    if os.path.isfile(curr_path) and file_type in file:\n",
    "        for label in LABELS.keys():\n",
    "            if label in file:\n",
    "                wav_files.append((file, LABELS[label]))\n",
    "\n",
    "data_array = []\n",
    "label_array = []\n",
    "for data in wav_files: #in the my_datasets code\n",
    "    data_array.append(wavfile.read(os.path.join(training_path, data[0]))[1])\n",
    "    label_array.append(data[1])\n",
    "\n",
    "max_len = max([len(data) for data in data_array])\n",
    "data_array = [np.resize(data, 48000*10) for data in data_array]"
   ]
  },
  {
   "cell_type": "code",
   "execution_count": 13,
   "metadata": {},
   "outputs": [],
   "source": [
    "# split into training and testing\n",
    "train_data, test_data, train_labels, test_labels = train_test_split(data_array, label_array, train_size=0.5, test_size=0.5)"
   ]
  },
  {
   "cell_type": "code",
   "execution_count": 14,
   "metadata": {},
   "outputs": [],
   "source": [
    "train_ten, test_ten = torch.tensor(train_data), torch.tensor(test_data)\n",
    "train_y_ten, test_y_ten = torch.tensor(train_labels), torch.tensor(test_labels)\n",
    "\n",
    "train_dataset = tdata.TensorDataset(train_ten, train_y_ten)\n",
    "\n",
    "train_loader = tdata.DataLoader(train_dataset, batch_size=32) #this is the data loader"
   ]
  },
  {
   "cell_type": "code",
   "execution_count": 15,
   "metadata": {},
   "outputs": [
    {
     "name": "stdout",
     "output_type": "stream",
     "text": [
      "563\n",
      "563 394\n",
      "error: 0.6998223801065719\n"
     ]
    }
   ],
   "source": [
    "gnb = GaussianNB() #gnb and y_pred lines directly from scikit-learn website documentation for Naive-Bayes\n",
    "y_pred = gnb.fit(train_data, train_labels).predict(test_data)\n",
    "print(len(y_pred))\n",
    "\n",
    "#counting the mislabeled points\n",
    "mislabeled_points = 0\n",
    "for idx in range(len(y_pred)):\n",
    "    if y_pred[idx] != test_labels[idx]:\n",
    "        mislabeled_points += 1\n",
    "print(len(y_pred), mislabeled_points)\n",
    "print(\"error:\", mislabeled_points/len(y_pred))\n",
    "\n",
    "#print(classification_report(test_y_ten, test_pred))\n",
    "#print(\"Number of mislabeled points out of a total %d points : %d\", (test_ten.shape[0], (test_y_ten != y_pred).sum()))"
   ]
  }
 ],
 "metadata": {
  "kernelspec": {
   "display_name": "Python 3.8.2 64-bit",
   "language": "python",
   "name": "python3"
  },
  "language_info": {
   "codemirror_mode": {
    "name": "ipython",
    "version": 3
   },
   "file_extension": ".py",
   "mimetype": "text/x-python",
   "name": "python",
   "nbconvert_exporter": "python",
   "pygments_lexer": "ipython3",
   "version": "3.8.2"
  },
  "orig_nbformat": 4,
  "vscode": {
   "interpreter": {
    "hash": "31f2aee4e71d21fbe5cf8b01ff0e069b9275f58929596ceb00d14d90e3e16cd6"
   }
  }
 },
 "nbformat": 4,
 "nbformat_minor": 2
}
